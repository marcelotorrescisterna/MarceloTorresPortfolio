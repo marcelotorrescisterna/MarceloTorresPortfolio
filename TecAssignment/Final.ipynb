{
 "cells": [
  {
   "cell_type": "markdown",
   "id": "6fc102ab-d51c-4f5e-ba9b-5d642ddd55c1",
   "metadata": {},
   "source": [
    "# Technical Assignment : Data Scientist Xe\n",
    "## Marcelo Torres Cisterna"
   ]
  },
  {
   "cell_type": "markdown",
   "id": "b51a60e8-c592-4d8f-a18d-5d24b46b2366",
   "metadata": {},
   "source": [
    "The following dataset comes from direct marketing campaigns (phone calls) of a Portuguese banking institution. The classification goal is to predict if the client will subscribe a term deposit. It´s important to mention that I won´t detail every single experiment I did, I´ll just point out the ones that gave the better results."
   ]
  },
  {
   "cell_type": "markdown",
   "id": "8696cc8f-4112-4a63-8f7b-8aab12bf2220",
   "metadata": {},
   "source": [
    "First, I´ll import all the necessary libraries. Most of them are well known libraries, except for __Utils__ which is a custom library I use for my data analysis."
   ]
  },
  {
   "cell_type": "code",
   "execution_count": 1,
   "id": "a552d6ea-8b78-4d28-9e0d-db2c0edf0a5a",
   "metadata": {},
   "outputs": [],
   "source": [
    "import pandas as pd\n",
    "import numpy as np\n",
    "import matplotlib.pyplot as plt\n",
    "import seaborn as sns\n",
    "import utils as ut\n",
    "pd.set_option('display.max_columns', None)"
   ]
  },
  {
   "cell_type": "markdown",
   "id": "fbe27563-122b-4321-9baa-9b8279fdeea5",
   "metadata": {},
   "source": [
    "Next, the given dataset is loaded, since it´s a CSV format we use the __read_csv__ method"
   ]
  },
  {
   "cell_type": "code",
   "execution_count": 2,
   "id": "26f5c711-bf2e-4ee1-ace8-fe942f03fc51",
   "metadata": {},
   "outputs": [],
   "source": [
    "data = pd.read_csv(\"bank-additional-full.csv\")"
   ]
  },
  {
   "cell_type": "code",
   "execution_count": 3,
   "id": "729cfba1-2f1b-4df4-8608-2712b7f5506c",
   "metadata": {},
   "outputs": [
    {
     "data": {
      "text/html": [
       "<div>\n",
       "<style scoped>\n",
       "    .dataframe tbody tr th:only-of-type {\n",
       "        vertical-align: middle;\n",
       "    }\n",
       "\n",
       "    .dataframe tbody tr th {\n",
       "        vertical-align: top;\n",
       "    }\n",
       "\n",
       "    .dataframe thead th {\n",
       "        text-align: right;\n",
       "    }\n",
       "</style>\n",
       "<table border=\"1\" class=\"dataframe\">\n",
       "  <thead>\n",
       "    <tr style=\"text-align: right;\">\n",
       "      <th></th>\n",
       "      <th>age</th>\n",
       "      <th>job</th>\n",
       "      <th>marital</th>\n",
       "      <th>education</th>\n",
       "      <th>default</th>\n",
       "      <th>housing</th>\n",
       "      <th>loan</th>\n",
       "      <th>contact</th>\n",
       "      <th>month</th>\n",
       "      <th>day_of_week</th>\n",
       "      <th>duration</th>\n",
       "      <th>campaign</th>\n",
       "      <th>pdays</th>\n",
       "      <th>previous</th>\n",
       "      <th>poutcome</th>\n",
       "      <th>emp.var.rate</th>\n",
       "      <th>cons.price.idx</th>\n",
       "      <th>cons.conf.idx</th>\n",
       "      <th>euribor3m</th>\n",
       "      <th>nr.employed</th>\n",
       "      <th>y</th>\n",
       "    </tr>\n",
       "  </thead>\n",
       "  <tbody>\n",
       "    <tr>\n",
       "      <th>0</th>\n",
       "      <td>56</td>\n",
       "      <td>housekeeper</td>\n",
       "      <td>married</td>\n",
       "      <td>basic.4y</td>\n",
       "      <td>no</td>\n",
       "      <td>no</td>\n",
       "      <td>no</td>\n",
       "      <td>telephone</td>\n",
       "      <td>may</td>\n",
       "      <td>mon</td>\n",
       "      <td>261</td>\n",
       "      <td>1</td>\n",
       "      <td>999</td>\n",
       "      <td>0</td>\n",
       "      <td>nonexistent</td>\n",
       "      <td>1.1</td>\n",
       "      <td>93.994</td>\n",
       "      <td>-36.4</td>\n",
       "      <td>4.857</td>\n",
       "      <td>5191.0</td>\n",
       "      <td>no</td>\n",
       "    </tr>\n",
       "    <tr>\n",
       "      <th>1</th>\n",
       "      <td>57</td>\n",
       "      <td>services</td>\n",
       "      <td>married</td>\n",
       "      <td>high.school</td>\n",
       "      <td>unknown</td>\n",
       "      <td>no</td>\n",
       "      <td>no</td>\n",
       "      <td>telephone</td>\n",
       "      <td>may</td>\n",
       "      <td>mon</td>\n",
       "      <td>149</td>\n",
       "      <td>1</td>\n",
       "      <td>999</td>\n",
       "      <td>0</td>\n",
       "      <td>nonexistent</td>\n",
       "      <td>1.1</td>\n",
       "      <td>93.994</td>\n",
       "      <td>-36.4</td>\n",
       "      <td>4.857</td>\n",
       "      <td>5191.0</td>\n",
       "      <td>no</td>\n",
       "    </tr>\n",
       "    <tr>\n",
       "      <th>2</th>\n",
       "      <td>37</td>\n",
       "      <td>services</td>\n",
       "      <td>married</td>\n",
       "      <td>high.school</td>\n",
       "      <td>no</td>\n",
       "      <td>yes</td>\n",
       "      <td>no</td>\n",
       "      <td>telephone</td>\n",
       "      <td>may</td>\n",
       "      <td>mon</td>\n",
       "      <td>226</td>\n",
       "      <td>1</td>\n",
       "      <td>999</td>\n",
       "      <td>0</td>\n",
       "      <td>nonexistent</td>\n",
       "      <td>1.1</td>\n",
       "      <td>93.994</td>\n",
       "      <td>-36.4</td>\n",
       "      <td>4.857</td>\n",
       "      <td>5191.0</td>\n",
       "      <td>no</td>\n",
       "    </tr>\n",
       "    <tr>\n",
       "      <th>3</th>\n",
       "      <td>40</td>\n",
       "      <td>admin.</td>\n",
       "      <td>married</td>\n",
       "      <td>basic.6y</td>\n",
       "      <td>no</td>\n",
       "      <td>no</td>\n",
       "      <td>no</td>\n",
       "      <td>telephone</td>\n",
       "      <td>may</td>\n",
       "      <td>mon</td>\n",
       "      <td>151</td>\n",
       "      <td>1</td>\n",
       "      <td>999</td>\n",
       "      <td>0</td>\n",
       "      <td>nonexistent</td>\n",
       "      <td>1.1</td>\n",
       "      <td>93.994</td>\n",
       "      <td>-36.4</td>\n",
       "      <td>4.857</td>\n",
       "      <td>5191.0</td>\n",
       "      <td>no</td>\n",
       "    </tr>\n",
       "    <tr>\n",
       "      <th>4</th>\n",
       "      <td>56</td>\n",
       "      <td>services</td>\n",
       "      <td>married</td>\n",
       "      <td>high.school</td>\n",
       "      <td>no</td>\n",
       "      <td>no</td>\n",
       "      <td>yes</td>\n",
       "      <td>telephone</td>\n",
       "      <td>may</td>\n",
       "      <td>mon</td>\n",
       "      <td>307</td>\n",
       "      <td>1</td>\n",
       "      <td>999</td>\n",
       "      <td>0</td>\n",
       "      <td>nonexistent</td>\n",
       "      <td>1.1</td>\n",
       "      <td>93.994</td>\n",
       "      <td>-36.4</td>\n",
       "      <td>4.857</td>\n",
       "      <td>5191.0</td>\n",
       "      <td>no</td>\n",
       "    </tr>\n",
       "  </tbody>\n",
       "</table>\n",
       "</div>"
      ],
      "text/plain": [
       "   age          job  marital    education  default housing loan    contact  \\\n",
       "0   56  housekeeper  married     basic.4y       no      no   no  telephone   \n",
       "1   57     services  married  high.school  unknown      no   no  telephone   \n",
       "2   37     services  married  high.school       no     yes   no  telephone   \n",
       "3   40       admin.  married     basic.6y       no      no   no  telephone   \n",
       "4   56     services  married  high.school       no      no  yes  telephone   \n",
       "\n",
       "  month day_of_week  duration  campaign  pdays  previous     poutcome  \\\n",
       "0   may         mon       261         1    999         0  nonexistent   \n",
       "1   may         mon       149         1    999         0  nonexistent   \n",
       "2   may         mon       226         1    999         0  nonexistent   \n",
       "3   may         mon       151         1    999         0  nonexistent   \n",
       "4   may         mon       307         1    999         0  nonexistent   \n",
       "\n",
       "   emp.var.rate  cons.price.idx  cons.conf.idx  euribor3m  nr.employed   y  \n",
       "0           1.1          93.994          -36.4      4.857       5191.0  no  \n",
       "1           1.1          93.994          -36.4      4.857       5191.0  no  \n",
       "2           1.1          93.994          -36.4      4.857       5191.0  no  \n",
       "3           1.1          93.994          -36.4      4.857       5191.0  no  \n",
       "4           1.1          93.994          -36.4      4.857       5191.0  no  "
      ]
     },
     "execution_count": 3,
     "metadata": {},
     "output_type": "execute_result"
    }
   ],
   "source": [
    "data.head()"
   ]
  },
  {
   "cell_type": "markdown",
   "id": "f5c6ac61-3354-43f7-ad95-acc21e521f9c",
   "metadata": {},
   "source": [
    "We drop duplicate entries"
   ]
  },
  {
   "cell_type": "code",
   "execution_count": 4,
   "id": "2677f783-0846-4f88-afc6-eac264978da4",
   "metadata": {},
   "outputs": [],
   "source": [
    "data.drop_duplicates(inplace = True)"
   ]
  },
  {
   "cell_type": "markdown",
   "id": "f0d2af0e-c520-474e-9480-de6fcb0abcbc",
   "metadata": {},
   "source": [
    "## Section 1: Exploratory Data Analysis"
   ]
  },
  {
   "cell_type": "markdown",
   "id": "e1bfa2ce-bb6e-435f-b108-e6f1bd826849",
   "metadata": {},
   "source": [
    "The way I approach my analysis is first of all checking for missing values in the data"
   ]
  },
  {
   "cell_type": "code",
   "execution_count": 5,
   "id": "c1863145-2806-4478-8e2d-b3c719c76de5",
   "metadata": {},
   "outputs": [
    {
     "data": {
      "text/plain": [
       "age               0\n",
       "job               0\n",
       "marital           0\n",
       "education         0\n",
       "default           0\n",
       "housing           0\n",
       "loan              0\n",
       "contact           0\n",
       "month             0\n",
       "day_of_week       0\n",
       "duration          0\n",
       "campaign          0\n",
       "pdays             0\n",
       "previous          0\n",
       "poutcome          0\n",
       "emp.var.rate      0\n",
       "cons.price.idx    0\n",
       "cons.conf.idx     0\n",
       "euribor3m         0\n",
       "nr.employed       0\n",
       "y                 0\n",
       "dtype: int64"
      ]
     },
     "execution_count": 5,
     "metadata": {},
     "output_type": "execute_result"
    }
   ],
   "source": [
    "data.isnull().sum()"
   ]
  },
  {
   "cell_type": "markdown",
   "id": "bdbc5c3a-2e4c-47d2-a9bb-1846e40115f6",
   "metadata": {},
   "source": [
    "__OBS__ : Despite having no missing values, I´ll have to check for those which have __Unknown__ as a feature"
   ]
  },
  {
   "cell_type": "markdown",
   "id": "479e3c8f-a072-477e-a255-859e9cb62f56",
   "metadata": {},
   "source": [
    "Next, some common methods such as __info__ and __describe__ are used to analyze some properties of the data"
   ]
  },
  {
   "cell_type": "code",
   "execution_count": 6,
   "id": "92cd5a3c-d59c-4a37-9c78-4dcd59470803",
   "metadata": {},
   "outputs": [
    {
     "name": "stdout",
     "output_type": "stream",
     "text": [
      "<class 'pandas.core.frame.DataFrame'>\n",
      "Int64Index: 41176 entries, 0 to 41187\n",
      "Data columns (total 21 columns):\n",
      " #   Column          Non-Null Count  Dtype  \n",
      "---  ------          --------------  -----  \n",
      " 0   age             41176 non-null  int64  \n",
      " 1   job             41176 non-null  object \n",
      " 2   marital         41176 non-null  object \n",
      " 3   education       41176 non-null  object \n",
      " 4   default         41176 non-null  object \n",
      " 5   housing         41176 non-null  object \n",
      " 6   loan            41176 non-null  object \n",
      " 7   contact         41176 non-null  object \n",
      " 8   month           41176 non-null  object \n",
      " 9   day_of_week     41176 non-null  object \n",
      " 10  duration        41176 non-null  int64  \n",
      " 11  campaign        41176 non-null  int64  \n",
      " 12  pdays           41176 non-null  int64  \n",
      " 13  previous        41176 non-null  int64  \n",
      " 14  poutcome        41176 non-null  object \n",
      " 15  emp.var.rate    41176 non-null  float64\n",
      " 16  cons.price.idx  41176 non-null  float64\n",
      " 17  cons.conf.idx   41176 non-null  float64\n",
      " 18  euribor3m       41176 non-null  float64\n",
      " 19  nr.employed     41176 non-null  float64\n",
      " 20  y               41176 non-null  object \n",
      "dtypes: float64(5), int64(5), object(11)\n",
      "memory usage: 6.9+ MB\n"
     ]
    }
   ],
   "source": [
    "data.info()"
   ]
  },
  {
   "cell_type": "code",
   "execution_count": 7,
   "id": "0750421d-8414-47e5-a132-c47637b14fb5",
   "metadata": {},
   "outputs": [
    {
     "data": {
      "text/html": [
       "<div>\n",
       "<style scoped>\n",
       "    .dataframe tbody tr th:only-of-type {\n",
       "        vertical-align: middle;\n",
       "    }\n",
       "\n",
       "    .dataframe tbody tr th {\n",
       "        vertical-align: top;\n",
       "    }\n",
       "\n",
       "    .dataframe thead th {\n",
       "        text-align: right;\n",
       "    }\n",
       "</style>\n",
       "<table border=\"1\" class=\"dataframe\">\n",
       "  <thead>\n",
       "    <tr style=\"text-align: right;\">\n",
       "      <th></th>\n",
       "      <th>age</th>\n",
       "      <th>duration</th>\n",
       "      <th>campaign</th>\n",
       "      <th>pdays</th>\n",
       "      <th>previous</th>\n",
       "      <th>emp.var.rate</th>\n",
       "      <th>cons.price.idx</th>\n",
       "      <th>cons.conf.idx</th>\n",
       "      <th>euribor3m</th>\n",
       "      <th>nr.employed</th>\n",
       "    </tr>\n",
       "  </thead>\n",
       "  <tbody>\n",
       "    <tr>\n",
       "      <th>count</th>\n",
       "      <td>41176.00000</td>\n",
       "      <td>41176.000000</td>\n",
       "      <td>41176.000000</td>\n",
       "      <td>41176.000000</td>\n",
       "      <td>41176.000000</td>\n",
       "      <td>41176.000000</td>\n",
       "      <td>41176.000000</td>\n",
       "      <td>41176.000000</td>\n",
       "      <td>41176.000000</td>\n",
       "      <td>41176.000000</td>\n",
       "    </tr>\n",
       "    <tr>\n",
       "      <th>mean</th>\n",
       "      <td>40.02380</td>\n",
       "      <td>258.315815</td>\n",
       "      <td>2.567879</td>\n",
       "      <td>962.464810</td>\n",
       "      <td>0.173013</td>\n",
       "      <td>0.081922</td>\n",
       "      <td>93.575720</td>\n",
       "      <td>-40.502863</td>\n",
       "      <td>3.621293</td>\n",
       "      <td>5167.034870</td>\n",
       "    </tr>\n",
       "    <tr>\n",
       "      <th>std</th>\n",
       "      <td>10.42068</td>\n",
       "      <td>259.305321</td>\n",
       "      <td>2.770318</td>\n",
       "      <td>186.937102</td>\n",
       "      <td>0.494964</td>\n",
       "      <td>1.570883</td>\n",
       "      <td>0.578839</td>\n",
       "      <td>4.627860</td>\n",
       "      <td>1.734437</td>\n",
       "      <td>72.251364</td>\n",
       "    </tr>\n",
       "    <tr>\n",
       "      <th>min</th>\n",
       "      <td>17.00000</td>\n",
       "      <td>0.000000</td>\n",
       "      <td>1.000000</td>\n",
       "      <td>0.000000</td>\n",
       "      <td>0.000000</td>\n",
       "      <td>-3.400000</td>\n",
       "      <td>92.201000</td>\n",
       "      <td>-50.800000</td>\n",
       "      <td>0.634000</td>\n",
       "      <td>4963.600000</td>\n",
       "    </tr>\n",
       "    <tr>\n",
       "      <th>25%</th>\n",
       "      <td>32.00000</td>\n",
       "      <td>102.000000</td>\n",
       "      <td>1.000000</td>\n",
       "      <td>999.000000</td>\n",
       "      <td>0.000000</td>\n",
       "      <td>-1.800000</td>\n",
       "      <td>93.075000</td>\n",
       "      <td>-42.700000</td>\n",
       "      <td>1.344000</td>\n",
       "      <td>5099.100000</td>\n",
       "    </tr>\n",
       "    <tr>\n",
       "      <th>50%</th>\n",
       "      <td>38.00000</td>\n",
       "      <td>180.000000</td>\n",
       "      <td>2.000000</td>\n",
       "      <td>999.000000</td>\n",
       "      <td>0.000000</td>\n",
       "      <td>1.100000</td>\n",
       "      <td>93.749000</td>\n",
       "      <td>-41.800000</td>\n",
       "      <td>4.857000</td>\n",
       "      <td>5191.000000</td>\n",
       "    </tr>\n",
       "    <tr>\n",
       "      <th>75%</th>\n",
       "      <td>47.00000</td>\n",
       "      <td>319.000000</td>\n",
       "      <td>3.000000</td>\n",
       "      <td>999.000000</td>\n",
       "      <td>0.000000</td>\n",
       "      <td>1.400000</td>\n",
       "      <td>93.994000</td>\n",
       "      <td>-36.400000</td>\n",
       "      <td>4.961000</td>\n",
       "      <td>5228.100000</td>\n",
       "    </tr>\n",
       "    <tr>\n",
       "      <th>max</th>\n",
       "      <td>98.00000</td>\n",
       "      <td>4918.000000</td>\n",
       "      <td>56.000000</td>\n",
       "      <td>999.000000</td>\n",
       "      <td>7.000000</td>\n",
       "      <td>1.400000</td>\n",
       "      <td>94.767000</td>\n",
       "      <td>-26.900000</td>\n",
       "      <td>5.045000</td>\n",
       "      <td>5228.100000</td>\n",
       "    </tr>\n",
       "  </tbody>\n",
       "</table>\n",
       "</div>"
      ],
      "text/plain": [
       "               age      duration      campaign         pdays      previous  \\\n",
       "count  41176.00000  41176.000000  41176.000000  41176.000000  41176.000000   \n",
       "mean      40.02380    258.315815      2.567879    962.464810      0.173013   \n",
       "std       10.42068    259.305321      2.770318    186.937102      0.494964   \n",
       "min       17.00000      0.000000      1.000000      0.000000      0.000000   \n",
       "25%       32.00000    102.000000      1.000000    999.000000      0.000000   \n",
       "50%       38.00000    180.000000      2.000000    999.000000      0.000000   \n",
       "75%       47.00000    319.000000      3.000000    999.000000      0.000000   \n",
       "max       98.00000   4918.000000     56.000000    999.000000      7.000000   \n",
       "\n",
       "       emp.var.rate  cons.price.idx  cons.conf.idx     euribor3m   nr.employed  \n",
       "count  41176.000000    41176.000000   41176.000000  41176.000000  41176.000000  \n",
       "mean       0.081922       93.575720     -40.502863      3.621293   5167.034870  \n",
       "std        1.570883        0.578839       4.627860      1.734437     72.251364  \n",
       "min       -3.400000       92.201000     -50.800000      0.634000   4963.600000  \n",
       "25%       -1.800000       93.075000     -42.700000      1.344000   5099.100000  \n",
       "50%        1.100000       93.749000     -41.800000      4.857000   5191.000000  \n",
       "75%        1.400000       93.994000     -36.400000      4.961000   5228.100000  \n",
       "max        1.400000       94.767000     -26.900000      5.045000   5228.100000  "
      ]
     },
     "execution_count": 7,
     "metadata": {},
     "output_type": "execute_result"
    }
   ],
   "source": [
    "data.describe()"
   ]
  },
  {
   "cell_type": "markdown",
   "id": "773adaeb-e67c-4775-96a4-b89705d823dc",
   "metadata": {},
   "source": [
    "Since I don´t have a whole description of the features it´s somehow a little difficult to gather conclusions from these analysis, I would point out the oldest client who is __98 years__ old which could be consider as a potential outlier."
   ]
  },
  {
   "cell_type": "markdown",
   "id": "b1fbeeab-f194-4aa6-aebc-f09908e0b2b9",
   "metadata": {},
   "source": [
    "### Section 1.1 : Data Balance"
   ]
  },
  {
   "cell_type": "markdown",
   "id": "749d94ca-38bd-4319-b4b2-73864ff72e56",
   "metadata": {},
   "source": [
    "Class imbalance is one of the most common problems in Machine Learning. The plot below shows the distribution of classes:"
   ]
  },
  {
   "cell_type": "code",
   "execution_count": 8,
   "id": "14cf49d8-936e-48e3-abe1-481e5da26f29",
   "metadata": {},
   "outputs": [
    {
     "data": {
      "image/png": "[encoded data removed]",
      "text/plain": [
       "<Figure size 360x360 with 1 Axes>"
      ]
     },
     "metadata": {
      "needs_background": "light"
     },
     "output_type": "display_data"
    }
   ],
   "source": [
    "plt.figure(figsize = (5,5))\n",
    "pos_percentage = np.round(len(data[data.y == \"yes\"]) / len(data) * 100 , 2)\n",
    "plt.title(f\"Class Distribution , Clients Who Took The Deposit Percentage : {pos_percentage}%\")\n",
    "sns.countplot(x = \"y\" , data = data);"
   ]
  },
  {
   "cell_type": "markdown",
   "id": "2af5d5a3-f26f-4cad-a006-78752f3a8ba6",
   "metadata": {},
   "source": [
    "We can see that there is a huge set imbalance, of all the examples only __11.27 %__ of them belong to customers who in fact took the deposit. This is a problem that we will have to address later. For analyzing purposes, the set is split between positive and negative classes."
   ]
  },
  {
   "cell_type": "code",
   "execution_count": 9,
   "id": "9e53ceeb-8dae-4225-a39c-0547f2175ca8",
   "metadata": {},
   "outputs": [],
   "source": [
    "pos_transactions = data[data.y == \"yes\"]\n",
    "neg_transactions = data[data.y == \"no\"]"
   ]
  },
  {
   "cell_type": "markdown",
   "id": "30bc8f90-547c-4526-a0b9-cc2bfeaa72e5",
   "metadata": {},
   "source": [
    "### Section 1.2: Numerical Features Histograms"
   ]
  },
  {
   "cell_type": "markdown",
   "id": "6d248646-68d1-4d8e-9701-5ec0eff536d3",
   "metadata": {},
   "source": [
    "#### Histograms For Clients Who Took The Deposit"
   ]
  },
  {
   "cell_type": "code",
   "execution_count": 10,
   "id": "a3c40273-a39c-4d32-acc7-d6e7ce01ce7a",
   "metadata": {},
   "outputs": [
    {
     "data": {
      "image/png": "[encoded data removed]",
      "text/plain": [
       "<Figure size 1440x720 with 12 Axes>"
      ]
     },
     "metadata": {
      "needs_background": "light"
     },
     "output_type": "display_data"
    }
   ],
   "source": [
    "pos_transactions.hist(figsize = (20,10) , color = \"red\" , bins = 50);"
   ]
  },
  {
   "cell_type": "markdown",
   "id": "d3e845da-4b73-4e0e-a043-c7cbdaae7025",
   "metadata": {},
   "source": [
    "#### Histogram For Clients Who Didn´t Take The Deposit"
   ]
  },
  {
   "cell_type": "code",
   "execution_count": 11,
   "id": "f8b21a8c-7260-450d-8a24-f4a0398d6aae",
   "metadata": {},
   "outputs": [
    {
     "data": {
      "image/png": "[encoded data removed]",
      "text/plain": [
       "<Figure size 1440x720 with 12 Axes>"
      ]
     },
     "metadata": {
      "needs_background": "light"
     },
     "output_type": "display_data"
    }
   ],
   "source": [
    "neg_transactions.hist(figsize = (20,10) , bins = 50);"
   ]
  },
  {
   "cell_type": "markdown",
   "id": "a01e657f-97b0-4edb-9eba-cd020b859af0",
   "metadata": {},
   "source": [
    "There are many features to analyze here so I will start one by one. In __Red__ we can see clients who took the deposit and in __Blue__ the ones who didn´t. Starting with the __Age__ we can see that the majority of the data for clients who subscribed a term deposit is concentrated between 30 and 60 years old, having a similar distribution in the case of clients who didn´t subscribed the term deposit. We can obviously identify some anomalies with people who are really old (over 90 years old), so maybe a good idea is to group the clients as middle age, middle-adult, etc. Moving on to __Duration__ this is a special feature which shows the duration of the last contact with the customer. Despite the fact that it gives us information, it can only be obtained after the call and therefore after the target value is known, so it isn´t useful for building a predictive model. It´s interesting to mention that for clients who took the deposit, this duration time doubled the ones from clients who didn´t took the deposit. The __Campaign__ feature shows a very similar distribution in both type of clients indicating that the majority of times, the target client was contacted only once or twice. This feature is also dismissed."
   ]
  },
  {
   "cell_type": "markdown",
   "id": "e5dfbdf8-efee-4c12-bc61-ff85f0d97b95",
   "metadata": {},
   "source": [
    "__P_days__ shows the number of days that passed after the client was last contacted. The majority of clients in both cases were reached out 999 days after, which is another way of saying that the client was not previously contacted. Since it shows a clear common value for both cases, the features is also dismissed. __Previous__ indicates the number of contacts performed before this campaign and for this client, again we have a very similar pattern between both type of clients which doesn´t give us much information. __Employment Variation Rate__ shows some interesting information. For this I´ll calculate the top 3 rates for both type of clients."
   ]
  },
  {
   "cell_type": "markdown",
   "id": "5a01817a-72b8-4052-b800-6ed46254c0ce",
   "metadata": {},
   "source": [
    "___Employment Variation Rate For Clients Who Took The Deposit___"
   ]
  },
  {
   "cell_type": "code",
   "execution_count": 12,
   "id": "dfe84b1b-a817-4344-aae0-e11384a3d22d",
   "metadata": {},
   "outputs": [
    {
     "data": {
      "text/plain": [
       "emp.var.rate\n",
       "-1.8    1461\n",
       " 1.4     866\n",
       "-2.9     593\n",
       "dtype: int64"
      ]
     },
     "execution_count": 12,
     "metadata": {},
     "output_type": "execute_result"
    }
   ],
   "source": [
    "pos_transactions.groupby(\"emp.var.rate\").size().sort_values(ascending = False).head(3)"
   ]
  },
  {
   "cell_type": "markdown",
   "id": "686d5c49-392f-44a0-a1a6-b1ab501ec358",
   "metadata": {},
   "source": [
    "___Employment Variation Rate For Clients Who Didn´t Took The Deposit___"
   ]
  },
  {
   "cell_type": "code",
   "execution_count": 13,
   "id": "6f616d90-3549-4540-adb5-775a3aae7f32",
   "metadata": {},
   "outputs": [
    {
     "data": {
      "text/plain": [
       "emp.var.rate\n",
       " 1.4    15362\n",
       "-1.8     7721\n",
       " 1.1     7522\n",
       "dtype: int64"
      ]
     },
     "execution_count": 13,
     "metadata": {},
     "output_type": "execute_result"
    }
   ],
   "source": [
    "neg_transactions.groupby(\"emp.var.rate\").size().sort_values(ascending = False).head(3)"
   ]
  },
  {
   "cell_type": "markdown",
   "id": "f7a0f54a-cc60-4cd5-a1ad-ea7e736d6552",
   "metadata": {},
   "source": [
    "Leaving out the dimensionality of numbers, we see that there are two main rates __-1.8 and 1.4__. In the case of clients who took the deposit, deposits taken when rate was -1.8 almost doubled the ones taken when this rate was 1.4. In the case of clients who didn´t take the deposit, this behavior goes the other way round."
   ]
  },
  {
   "cell_type": "markdown",
   "id": "56a4f3f7-709a-4803-9327-96020f7d6f72",
   "metadata": {},
   "source": [
    "Moving on to __Consumer Price Index__ we see that there are __three__ clear peaks in the case of clients who took the deposit which are:"
   ]
  },
  {
   "cell_type": "code",
   "execution_count": 14,
   "id": "d8a606cd-c021-4af1-8351-05f43ec4b333",
   "metadata": {},
   "outputs": [
    {
     "data": {
      "text/plain": [
       "cons.price.idx\n",
       "92.893    524\n",
       "93.075    442\n",
       "93.918    407\n",
       "dtype: int64"
      ]
     },
     "execution_count": 14,
     "metadata": {},
     "output_type": "execute_result"
    }
   ],
   "source": [
    "pos_transactions.groupby(\"cons.price.idx\").size().sort_values(ascending = False).head(3)"
   ]
  },
  {
   "cell_type": "markdown",
   "id": "07b88a7d-3b10-4458-ba00-ab110f9cb625",
   "metadata": {},
   "source": [
    "But again, the difference between Consumer Price isn´t so different, as a matter of facts it´s only a variation of decimals, however we are still going to consider this feature. The __Consumer Confidence Index__ is another feature with a particular behavior. If we first take a look on the customers who didn´t took the deposit, we see that there is a clear value that outstands over the others which is __-36.2__ followed by __-42,7__. However, in the case of customers who did in fact took the deposit, these index has a distribution which is more spread than customers who didn´t. These could be a useful measure te categorize these kind of users. __Euribor__ which shows the interest at which european financial institutions lend money also has a clear pattern in customers who took the deposit. For this users, the majority of deposits were taken when the euribor was rather over __4.9__ or below __1.4__. In the case of customers who didn´t take the deposit, in the majority of cases euribor was over 4.8."
   ]
  },
  {
   "cell_type": "markdown",
   "id": "6a4afa9f-d26f-42d6-8eec-1df503c33218",
   "metadata": {},
   "source": [
    "Finally, and very similar to the previous features, we can see that __Number of Employees__ has a more notorious pattern in both classes of customers. In the case of customers who took the deposit, this feature is mostly represented by value __5200__ while in the case of other customers, the most frequent number of employees is __5100__."
   ]
  },
  {
   "cell_type": "markdown",
   "id": "ad4c8fb0-a15e-4d3e-a639-b6719fb7edc7",
   "metadata": {},
   "source": [
    "### Section 1.3 : Categorical Features"
   ]
  },
  {
   "cell_type": "code",
   "execution_count": 15,
   "id": "b8258aaa-1ffd-4799-b911-9fe179fea845",
   "metadata": {},
   "outputs": [
    {
     "data": {
      "image/png": "[encoded data removed]",
      "text/plain": [
       "<Figure size 1080x288 with 1 Axes>"
      ]
     },
     "metadata": {
      "needs_background": "light"
     },
     "output_type": "display_data"
    }
   ],
   "source": [
    "ut.Countplot(pos_transactions , \"job\" , \"Positive Transactions by Job\")"
   ]
  },
  {
   "cell_type": "markdown",
   "id": "ed4acb5e-052b-43a5-b053-f8a7d8401e69",
   "metadata": {},
   "source": [
    "Starting with the __Job__ feature, we find something very interesting. People who work as an __Admin__ are the ones who took the most amount of deposits, followed by __blue-collar and technician__ , however Admins are very outstanding. This means, that we have to take a look at this feature when building models."
   ]
  },
  {
   "cell_type": "code",
   "execution_count": 16,
   "id": "ea29effa-0c34-4bcb-862a-9c8a63be1d94",
   "metadata": {},
   "outputs": [
    {
     "data": {
      "image/png": "[encoded data removed]",
      "text/plain": [
       "<Figure size 1440x288 with 2 Axes>"
      ]
     },
     "metadata": {
      "needs_background": "light"
     },
     "output_type": "display_data"
    }
   ],
   "source": [
    "ut.ComparativePlot(pos_transactions , neg_transactions , \"marital\" , \"Positive Transactions\" , \"Negative Transactions\" , \"Transactions by Marital Status\" ,\n",
    "                  order = [\"married\" , \"single\" , \"divorced\" , \"unknown\"])"
   ]
  },
  {
   "cell_type": "markdown",
   "id": "4145ac81-41e0-470e-ba0a-d52a1ccdfb1b",
   "metadata": {},
   "source": [
    "We can´t see a huge difference in the distribution between clients who took the deposit and those who didn´t due to Marital Status, so this feature isn´t really useful."
   ]
  },
  {
   "cell_type": "code",
   "execution_count": 17,
   "id": "647710dd-07cd-4aef-bd27-6f0dbbdfb1f8",
   "metadata": {},
   "outputs": [
    {
     "data": {
      "image/png": "[encoded data removed]",
      "text/plain": [
       "<Figure size 1080x288 with 1 Axes>"
      ]
     },
     "metadata": {
      "needs_background": "light"
     },
     "output_type": "display_data"
    }
   ],
   "source": [
    "ut.Countplot(pos_transactions , \"education\" , \"Positive Transactions by Education\" , palette = \"winter\")"
   ]
  },
  {
   "cell_type": "markdown",
   "id": "8c231294-fcac-44d1-89c3-46346a7a4db7",
   "metadata": {},
   "source": [
    "People with a __University Degree__ are the majority when it comes to taking a deposit. This means that these people know exactly what they are doing, they are probably very clever also so they have planned a reason to take the deposit."
   ]
  },
  {
   "cell_type": "code",
   "execution_count": 18,
   "id": "ee56e5ea-c582-435a-8792-89809644ae4b",
   "metadata": {},
   "outputs": [
    {
     "data": {
      "image/png": "[encoded data removed]",
      "text/plain": [
       "<Figure size 1440x288 with 2 Axes>"
      ]
     },
     "metadata": {
      "needs_background": "light"
     },
     "output_type": "display_data"
    }
   ],
   "source": [
    "ut.ComparativePlot(pos_transactions , neg_transactions , \"default\" , \"Positive Transactions\" , \"Negative Transactions\" , \"Transactions by Default\" , order = [\"no\" , \"yes\" , \"unknown\"])"
   ]
  },
  {
   "cell_type": "markdown",
   "id": "4acb25cb-1bdc-4dcc-8a96-60e0f024cba7",
   "metadata": {},
   "source": [
    "Again, __Default__ doesn´t show a huge variety between the two clients. Here, despite we have many unknown values, we don´t care because we are not going to use this feature."
   ]
  },
  {
   "cell_type": "code",
   "execution_count": 19,
   "id": "5dca6c72-8d36-469e-bcc8-0e38b8dc8a2e",
   "metadata": {},
   "outputs": [
    {
     "data": {
      "image/png": "[encoded data removed]",
      "text/plain": [
       "<Figure size 1440x288 with 2 Axes>"
      ]
     },
     "metadata": {
      "needs_background": "light"
     },
     "output_type": "display_data"
    }
   ],
   "source": [
    "ut.ComparativePlot(pos_transactions , neg_transactions , \"housing\" , \"Positive Transactions\" , \"Negative Transactions\" , \"Transactions by Housing\" , order = [\"yes\" , \"no\" ,  \"unknown\"])"
   ]
  },
  {
   "cell_type": "markdown",
   "id": "579ef55b-9480-4178-8fc2-0bc6e92a771f",
   "metadata": {},
   "source": [
    "Similarly as the previous features, __housing__ doesn´t show a quite obvious difference in the distribution so it isn´t useful."
   ]
  },
  {
   "cell_type": "code",
   "execution_count": 20,
   "id": "3c7494d3-acdb-49a0-bab6-ea5a0a49da15",
   "metadata": {},
   "outputs": [
    {
     "data": {
      "image/png": "[encoded data removed]",
      "text/plain": [
       "<Figure size 1440x288 with 2 Axes>"
      ]
     },
     "metadata": {
      "needs_background": "light"
     },
     "output_type": "display_data"
    }
   ],
   "source": [
    "ut.ComparativePlot(pos_transactions , neg_transactions , \"loan\" , \"Positive Transactions\" , \"Negative Transactions\" , \"Transactions by Loan\")"
   ]
  },
  {
   "cell_type": "markdown",
   "id": "e33a9d4b-63e6-447b-bc25-a8f8cb0b9b10",
   "metadata": {},
   "source": [
    "Most of users who took the deposit, do not have a __Loan__. Both type of users have the same distribution, so this feature is quite useless to separate both classes."
   ]
  },
  {
   "cell_type": "code",
   "execution_count": 21,
   "id": "87c3cc7e-f8d7-4cf2-85e7-eefbea04aac3",
   "metadata": {},
   "outputs": [
    {
     "data": {
      "image/png": "[encoded data removed]",
      "text/plain": [
       "<Figure size 1440x288 with 2 Axes>"
      ]
     },
     "metadata": {
      "needs_background": "light"
     },
     "output_type": "display_data"
    }
   ],
   "source": [
    "ut.ComparativePlot(pos_transactions , neg_transactions , \"contact\" , \"Positive Transactions\" , \"Negative Transactions\" , \"Transactions by Contact\")"
   ]
  },
  {
   "cell_type": "markdown",
   "id": "1eaae04c-7975-45b2-8746-b8986bf99bf9",
   "metadata": {},
   "source": [
    "The comparative charts based on the __Contact__ feature show a clear trend that, most of customers who took the loan were contacted through cellular."
   ]
  },
  {
   "cell_type": "code",
   "execution_count": 22,
   "id": "1a275009-f4ad-442c-ad68-cc15b8cb2941",
   "metadata": {},
   "outputs": [
    {
     "data": {
      "image/png": "[encoded data removed]",
      "text/plain": [
       "<Figure size 1440x288 with 2 Axes>"
      ]
     },
     "metadata": {
      "needs_background": "light"
     },
     "output_type": "display_data"
    }
   ],
   "source": [
    "months = [\"mar\" , \"apr\" , \"may\" , \"jun\" , \"jul\" , \"aug\" , \"sep\" , \"oct\" , \"nov\" , \"dec\"]\n",
    "ut.ComparativePlot(pos_transactions , neg_transactions , \"month\" , \"Positive Transactions\" , \"Negative Transactions\" , \"Transactions by Month\" , order = months)"
   ]
  },
  {
   "cell_type": "markdown",
   "id": "82991cbd-758a-4d41-8e2c-89bc5eee1154",
   "metadata": {},
   "source": [
    "The greatest amount of transactions were made during __May, June, July and August__ . It´s interesting to analyze the ratio between clients who took the deposit and the total of clients by month."
   ]
  },
  {
   "cell_type": "code",
   "execution_count": 23,
   "id": "f36141ad-7976-4566-9925-7506b1749216",
   "metadata": {},
   "outputs": [
    {
     "name": "stderr",
     "output_type": "stream",
     "text": [
      "C:\\Users\\marce\\Desktop\\Xe\\utils.py:86: UserWarning: FixedFormatter should only be used together with FixedLocator\n",
      "  ax.set_xticklabels(labels)\n"
     ]
    },
    {
     "data": {
      "image/png": "[encoded data removed]",
      "text/plain": [
       "<Figure size 1080x288 with 1 Axes>"
      ]
     },
     "metadata": {
      "needs_background": "light"
     },
     "output_type": "display_data"
    }
   ],
   "source": [
    "ratio = ut.FeatureRatio(data , \"month\" , months , plot_title = \"Monthly Positive Transactions Ratio\" , returndata=True)"
   ]
  },
  {
   "cell_type": "markdown",
   "id": "f0f184ea-69bb-41ca-8d52-b9e391d5bd8f",
   "metadata": {},
   "source": [
    "What we see in the plot above shows a new conclution towards our data. Despite the fact that during __May, June, July and August__ the most amount of transactions and also the most amount of deposits happen, the ratio is the lowest meaning that nearly all of the clients didn´t in fact took the deposit. However if we look at months such as __March, September, October and December__ more than 43% of transactions executed belong to clients who took the deposit, which is a very huge amount. Therefore, definitely this feature must be taken into account."
   ]
  },
  {
   "cell_type": "code",
   "execution_count": 24,
   "id": "82f447fa-04de-4814-83db-d988f8bde9b8",
   "metadata": {},
   "outputs": [
    {
     "data": {
      "image/png": "[encoded data removed]",
      "text/plain": [
       "<Figure size 1440x288 with 2 Axes>"
      ]
     },
     "metadata": {
      "needs_background": "light"
     },
     "output_type": "display_data"
    }
   ],
   "source": [
    "days = [\"mon\" , \"tue\" , \"wed\" , \"thu\" , \"fri\"]\n",
    "ut.ComparativePlot(pos_transactions , neg_transactions , \"day_of_week\" , \"Positive Transactions\" , \"Negative Transactions\" , \"Transactions by Day of Week\" , order = days)"
   ]
  },
  {
   "cell_type": "code",
   "execution_count": 25,
   "id": "103f599c-8c0f-420e-912b-6b3eafd48339",
   "metadata": {},
   "outputs": [
    {
     "name": "stderr",
     "output_type": "stream",
     "text": [
      "C:\\Users\\marce\\Desktop\\Xe\\utils.py:86: UserWarning: FixedFormatter should only be used together with FixedLocator\n",
      "  ax.set_xticklabels(labels)\n"
     ]
    },
    {
     "data": {
      "image/png": "[encoded data removed]",
      "text/plain": [
       "<Figure size 1080x288 with 1 Axes>"
      ]
     },
     "metadata": {
      "needs_background": "light"
     },
     "output_type": "display_data"
    }
   ],
   "source": [
    "ut.FeatureRatio(data , \"day_of_week\" , days , plot_title = \"Daily Positive Transactions Ratio\")"
   ]
  },
  {
   "cell_type": "markdown",
   "id": "a34829a0-a3e1-457d-9fb8-37b9a3a39abe",
   "metadata": {},
   "source": [
    "In the case of daily transactions, we don´t see a notorious difference between ratio neither the days, however after some experiments, this feature was indeed useful"
   ]
  },
  {
   "cell_type": "code",
   "execution_count": 26,
   "id": "e519cc03-00e1-46a8-8119-adf1b601b133",
   "metadata": {},
   "outputs": [
    {
     "data": {
      "image/png": "[encoded data removed]",
      "text/plain": [
       "<Figure size 1440x288 with 2 Axes>"
      ]
     },
     "metadata": {
      "needs_background": "light"
     },
     "output_type": "display_data"
    }
   ],
   "source": [
    "ut.ComparativePlot(pos_transactions , neg_transactions , \"poutcome\" , \"Positive Transactions\" , \"Negative Transactions\" , \"Transactions by POutcome\")"
   ]
  },
  {
   "cell_type": "markdown",
   "id": "522bf5a1-7c62-44c4-9925-feb29c48d36c",
   "metadata": {},
   "source": [
    "In the case of __POutcome__ , which shows the outcome of the previous contact, we have too many missing values identified as non existent, therefore this feature isn´t useful for our study."
   ]
  },
  {
   "cell_type": "markdown",
   "id": "44bd97f7-db11-4d8e-a226-0011ea24ec71",
   "metadata": {},
   "source": [
    "Therefore as a conclusion, the following features will be used for the problem:\n",
    "* Age\n",
    "* Job\n",
    "* Contact\n",
    "* Day Of Week\n",
    "* Employment Variation Rate\n",
    "* Consumer Price Index\n",
    "* Consumer Confidence Index\n",
    "* Euribor\n",
    "* Number of Employed\n",
    "* Education\n",
    "* Month\n",
    "* Ratio Features"
   ]
  },
  {
   "cell_type": "code",
   "execution_count": 27,
   "id": "15affa5c-99e8-446f-b1f5-abfb1dce3bf0",
   "metadata": {},
   "outputs": [],
   "source": [
    "data = data[[\"age\" , \"job\" , \"contact\" , \"day_of_week\" , \"emp.var.rate\" , \"cons.price.idx\" , \"cons.conf.idx\" , \"euribor3m\" , \"nr.employed\",\n",
    "             \"y\" , \"education\" , \"month\"]]"
   ]
  },
  {
   "cell_type": "markdown",
   "id": "53958a45-d716-4822-83ee-7bbe00252c6c",
   "metadata": {},
   "source": [
    "## Section 2 : Feature Engineering and Cleaning"
   ]
  },
  {
   "cell_type": "markdown",
   "id": "1422a926-9cae-4ebe-9741-b42679164283",
   "metadata": {},
   "source": [
    "### Section 2.1 : Dealing with Unknowns"
   ]
  },
  {
   "cell_type": "markdown",
   "id": "767b64ae-1174-48dc-b4df-ad8e9d18943c",
   "metadata": {},
   "source": [
    "On the features we selected, some of them have __unknown__ values such as age. From the diagrams above we see that they don´t represent a significant fraction of the data so we delete them."
   ]
  },
  {
   "cell_type": "code",
   "execution_count": 28,
   "id": "a5230b5c-9416-47d1-891e-77eb5fb080b1",
   "metadata": {},
   "outputs": [],
   "source": [
    "data = data[data.job != \"unknown\"]"
   ]
  },
  {
   "cell_type": "markdown",
   "id": "936dd2fd-f881-4540-99b6-ca725604bd5d",
   "metadata": {},
   "source": [
    "__Education__ is another feature which has unknown values. To solve this, we first take a look at the job of these people."
   ]
  },
  {
   "cell_type": "code",
   "execution_count": 29,
   "id": "87d7c28e-3b05-4415-8a09-c58c23452a4c",
   "metadata": {},
   "outputs": [
    {
     "data": {
      "text/plain": [
       "job\n",
       "admin.           249\n",
       "blue-collar      454\n",
       "entrepreneur      57\n",
       "housekeeper       42\n",
       "management       123\n",
       "retired           97\n",
       "self-employed     29\n",
       "services         150\n",
       "student          167\n",
       "technician       212\n",
       "unemployed        19\n",
       "dtype: int64"
      ]
     },
     "execution_count": 29,
     "metadata": {},
     "output_type": "execute_result"
    }
   ],
   "source": [
    "data[data.education == \"unknown\"].groupby(\"job\").size()"
   ]
  },
  {
   "cell_type": "markdown",
   "id": "cb8409b8-15e9-4e85-ba36-379cd66da03c",
   "metadata": {},
   "source": [
    "Next, we take a look at the most frequent education for the previous jobs. For example, let´s consider __admin__. The majority of admins have a university degree, therefore we fill in the unknown education as university degree"
   ]
  },
  {
   "cell_type": "code",
   "execution_count": 30,
   "id": "07769dce-cf25-4950-bc62-e8809537e875",
   "metadata": {},
   "outputs": [
    {
     "data": {
      "text/plain": [
       "'university.degree'"
      ]
     },
     "execution_count": 30,
     "metadata": {},
     "output_type": "execute_result"
    }
   ],
   "source": [
    "data[(data.job == \"admin.\") & (data.education != \"unknown\")].groupby(\"education\").size().sort_values(ascending = False)[0:1].index[0]"
   ]
  },
  {
   "cell_type": "code",
   "execution_count": 31,
   "id": "0dc16df8-6dd8-46f3-b79f-95adf6f18ba4",
   "metadata": {},
   "outputs": [],
   "source": [
    "education_unq = data[data.education != \"unknown\"]\n",
    "educ_dict = {}\n",
    "for i in data.job.unique():\n",
    "    temp_dat = data[data.job == i]\n",
    "    educ_dict[i] =    temp_dat.groupby(\"education\").size().sort_values(ascending = False)[0:1].index[0] "
   ]
  },
  {
   "cell_type": "code",
   "execution_count": 32,
   "id": "fd86806d-2f01-4320-b13d-335945154e1e",
   "metadata": {},
   "outputs": [
    {
     "data": {
      "text/plain": [
       "{'housekeeper': 'basic.4y',\n",
       " 'services': 'high.school',\n",
       " 'admin.': 'university.degree',\n",
       " 'blue-collar': 'basic.9y',\n",
       " 'technician': 'professional.course',\n",
       " 'retired': 'basic.4y',\n",
       " 'management': 'university.degree',\n",
       " 'unemployed': 'university.degree',\n",
       " 'self-employed': 'university.degree',\n",
       " 'entrepreneur': 'university.degree',\n",
       " 'student': 'high.school'}"
      ]
     },
     "execution_count": 32,
     "metadata": {},
     "output_type": "execute_result"
    }
   ],
   "source": [
    "educ_dict"
   ]
  },
  {
   "cell_type": "code",
   "execution_count": 33,
   "id": "e245ca38-2784-4577-bc9b-930d254ff0b5",
   "metadata": {},
   "outputs": [],
   "source": [
    "new_educt = []\n",
    "for x in data.itertuples():\n",
    "    if x.education == \"unknown\":\n",
    "        temp_educt = educ_dict[x.job]\n",
    "    else:\n",
    "        temp_educt = x.education\n",
    "    new_educt.append(temp_educt)\n",
    "data['NewEducation'] = new_educt"
   ]
  },
  {
   "cell_type": "code",
   "execution_count": 34,
   "id": "5d5dfd65-d668-44e1-87e0-5256c9de0571",
   "metadata": {},
   "outputs": [
    {
     "data": {
      "text/html": [
       "<div>\n",
       "<style scoped>\n",
       "    .dataframe tbody tr th:only-of-type {\n",
       "        vertical-align: middle;\n",
       "    }\n",
       "\n",
       "    .dataframe tbody tr th {\n",
       "        vertical-align: top;\n",
       "    }\n",
       "\n",
       "    .dataframe thead th {\n",
       "        text-align: right;\n",
       "    }\n",
       "</style>\n",
       "<table border=\"1\" class=\"dataframe\">\n",
       "  <thead>\n",
       "    <tr style=\"text-align: right;\">\n",
       "      <th></th>\n",
       "      <th>age</th>\n",
       "      <th>job</th>\n",
       "      <th>contact</th>\n",
       "      <th>day_of_week</th>\n",
       "      <th>emp.var.rate</th>\n",
       "      <th>cons.price.idx</th>\n",
       "      <th>cons.conf.idx</th>\n",
       "      <th>euribor3m</th>\n",
       "      <th>nr.employed</th>\n",
       "      <th>y</th>\n",
       "      <th>education</th>\n",
       "      <th>month</th>\n",
       "      <th>NewEducation</th>\n",
       "    </tr>\n",
       "  </thead>\n",
       "  <tbody>\n",
       "    <tr>\n",
       "      <th>0</th>\n",
       "      <td>56</td>\n",
       "      <td>housekeeper</td>\n",
       "      <td>telephone</td>\n",
       "      <td>mon</td>\n",
       "      <td>1.1</td>\n",
       "      <td>93.994</td>\n",
       "      <td>-36.4</td>\n",
       "      <td>4.857</td>\n",
       "      <td>5191.0</td>\n",
       "      <td>no</td>\n",
       "      <td>basic.4y</td>\n",
       "      <td>may</td>\n",
       "      <td>basic.4y</td>\n",
       "    </tr>\n",
       "    <tr>\n",
       "      <th>1</th>\n",
       "      <td>57</td>\n",
       "      <td>services</td>\n",
       "      <td>telephone</td>\n",
       "      <td>mon</td>\n",
       "      <td>1.1</td>\n",
       "      <td>93.994</td>\n",
       "      <td>-36.4</td>\n",
       "      <td>4.857</td>\n",
       "      <td>5191.0</td>\n",
       "      <td>no</td>\n",
       "      <td>high.school</td>\n",
       "      <td>may</td>\n",
       "      <td>high.school</td>\n",
       "    </tr>\n",
       "    <tr>\n",
       "      <th>2</th>\n",
       "      <td>37</td>\n",
       "      <td>services</td>\n",
       "      <td>telephone</td>\n",
       "      <td>mon</td>\n",
       "      <td>1.1</td>\n",
       "      <td>93.994</td>\n",
       "      <td>-36.4</td>\n",
       "      <td>4.857</td>\n",
       "      <td>5191.0</td>\n",
       "      <td>no</td>\n",
       "      <td>high.school</td>\n",
       "      <td>may</td>\n",
       "      <td>high.school</td>\n",
       "    </tr>\n",
       "    <tr>\n",
       "      <th>3</th>\n",
       "      <td>40</td>\n",
       "      <td>admin.</td>\n",
       "      <td>telephone</td>\n",
       "      <td>mon</td>\n",
       "      <td>1.1</td>\n",
       "      <td>93.994</td>\n",
       "      <td>-36.4</td>\n",
       "      <td>4.857</td>\n",
       "      <td>5191.0</td>\n",
       "      <td>no</td>\n",
       "      <td>basic.6y</td>\n",
       "      <td>may</td>\n",
       "      <td>basic.6y</td>\n",
       "    </tr>\n",
       "    <tr>\n",
       "      <th>4</th>\n",
       "      <td>56</td>\n",
       "      <td>services</td>\n",
       "      <td>telephone</td>\n",
       "      <td>mon</td>\n",
       "      <td>1.1</td>\n",
       "      <td>93.994</td>\n",
       "      <td>-36.4</td>\n",
       "      <td>4.857</td>\n",
       "      <td>5191.0</td>\n",
       "      <td>no</td>\n",
       "      <td>high.school</td>\n",
       "      <td>may</td>\n",
       "      <td>high.school</td>\n",
       "    </tr>\n",
       "    <tr>\n",
       "      <th>...</th>\n",
       "      <td>...</td>\n",
       "      <td>...</td>\n",
       "      <td>...</td>\n",
       "      <td>...</td>\n",
       "      <td>...</td>\n",
       "      <td>...</td>\n",
       "      <td>...</td>\n",
       "      <td>...</td>\n",
       "      <td>...</td>\n",
       "      <td>...</td>\n",
       "      <td>...</td>\n",
       "      <td>...</td>\n",
       "      <td>...</td>\n",
       "    </tr>\n",
       "    <tr>\n",
       "      <th>41183</th>\n",
       "      <td>73</td>\n",
       "      <td>retired</td>\n",
       "      <td>cellular</td>\n",
       "      <td>fri</td>\n",
       "      <td>-1.1</td>\n",
       "      <td>94.767</td>\n",
       "      <td>-50.8</td>\n",
       "      <td>1.028</td>\n",
       "      <td>4963.6</td>\n",
       "      <td>yes</td>\n",
       "      <td>professional.course</td>\n",
       "      <td>nov</td>\n",
       "      <td>professional.course</td>\n",
       "    </tr>\n",
       "    <tr>\n",
       "      <th>41184</th>\n",
       "      <td>46</td>\n",
       "      <td>blue-collar</td>\n",
       "      <td>cellular</td>\n",
       "      <td>fri</td>\n",
       "      <td>-1.1</td>\n",
       "      <td>94.767</td>\n",
       "      <td>-50.8</td>\n",
       "      <td>1.028</td>\n",
       "      <td>4963.6</td>\n",
       "      <td>no</td>\n",
       "      <td>professional.course</td>\n",
       "      <td>nov</td>\n",
       "      <td>professional.course</td>\n",
       "    </tr>\n",
       "    <tr>\n",
       "      <th>41185</th>\n",
       "      <td>56</td>\n",
       "      <td>retired</td>\n",
       "      <td>cellular</td>\n",
       "      <td>fri</td>\n",
       "      <td>-1.1</td>\n",
       "      <td>94.767</td>\n",
       "      <td>-50.8</td>\n",
       "      <td>1.028</td>\n",
       "      <td>4963.6</td>\n",
       "      <td>no</td>\n",
       "      <td>university.degree</td>\n",
       "      <td>nov</td>\n",
       "      <td>university.degree</td>\n",
       "    </tr>\n",
       "    <tr>\n",
       "      <th>41186</th>\n",
       "      <td>44</td>\n",
       "      <td>technician</td>\n",
       "      <td>cellular</td>\n",
       "      <td>fri</td>\n",
       "      <td>-1.1</td>\n",
       "      <td>94.767</td>\n",
       "      <td>-50.8</td>\n",
       "      <td>1.028</td>\n",
       "      <td>4963.6</td>\n",
       "      <td>yes</td>\n",
       "      <td>professional.course</td>\n",
       "      <td>nov</td>\n",
       "      <td>professional.course</td>\n",
       "    </tr>\n",
       "    <tr>\n",
       "      <th>41187</th>\n",
       "      <td>74</td>\n",
       "      <td>retired</td>\n",
       "      <td>cellular</td>\n",
       "      <td>fri</td>\n",
       "      <td>-1.1</td>\n",
       "      <td>94.767</td>\n",
       "      <td>-50.8</td>\n",
       "      <td>1.028</td>\n",
       "      <td>4963.6</td>\n",
       "      <td>no</td>\n",
       "      <td>professional.course</td>\n",
       "      <td>nov</td>\n",
       "      <td>professional.course</td>\n",
       "    </tr>\n",
       "  </tbody>\n",
       "</table>\n",
       "<p>40846 rows × 13 columns</p>\n",
       "</div>"
      ],
      "text/plain": [
       "       age          job    contact day_of_week  emp.var.rate  cons.price.idx  \\\n",
       "0       56  housekeeper  telephone         mon           1.1          93.994   \n",
       "1       57     services  telephone         mon           1.1          93.994   \n",
       "2       37     services  telephone         mon           1.1          93.994   \n",
       "3       40       admin.  telephone         mon           1.1          93.994   \n",
       "4       56     services  telephone         mon           1.1          93.994   \n",
       "...    ...          ...        ...         ...           ...             ...   \n",
       "41183   73      retired   cellular         fri          -1.1          94.767   \n",
       "41184   46  blue-collar   cellular         fri          -1.1          94.767   \n",
       "41185   56      retired   cellular         fri          -1.1          94.767   \n",
       "41186   44   technician   cellular         fri          -1.1          94.767   \n",
       "41187   74      retired   cellular         fri          -1.1          94.767   \n",
       "\n",
       "       cons.conf.idx  euribor3m  nr.employed    y            education month  \\\n",
       "0              -36.4      4.857       5191.0   no             basic.4y   may   \n",
       "1              -36.4      4.857       5191.0   no          high.school   may   \n",
       "2              -36.4      4.857       5191.0   no          high.school   may   \n",
       "3              -36.4      4.857       5191.0   no             basic.6y   may   \n",
       "4              -36.4      4.857       5191.0   no          high.school   may   \n",
       "...              ...        ...          ...  ...                  ...   ...   \n",
       "41183          -50.8      1.028       4963.6  yes  professional.course   nov   \n",
       "41184          -50.8      1.028       4963.6   no  professional.course   nov   \n",
       "41185          -50.8      1.028       4963.6   no    university.degree   nov   \n",
       "41186          -50.8      1.028       4963.6  yes  professional.course   nov   \n",
       "41187          -50.8      1.028       4963.6   no  professional.course   nov   \n",
       "\n",
       "              NewEducation  \n",
       "0                 basic.4y  \n",
       "1              high.school  \n",
       "2              high.school  \n",
       "3                 basic.6y  \n",
       "4              high.school  \n",
       "...                    ...  \n",
       "41183  professional.course  \n",
       "41184  professional.course  \n",
       "41185    university.degree  \n",
       "41186  professional.course  \n",
       "41187  professional.course  \n",
       "\n",
       "[40846 rows x 13 columns]"
      ]
     },
     "execution_count": 34,
     "metadata": {},
     "output_type": "execute_result"
    }
   ],
   "source": [
    "data"
   ]
  },
  {
   "cell_type": "markdown",
   "id": "c256e408-3a08-4ec7-938f-3ddaa85404e1",
   "metadata": {},
   "source": [
    "### Section 2.2 : Binning Features"
   ]
  },
  {
   "cell_type": "markdown",
   "id": "3042d736-7cb6-4e58-95e5-84d5287e3585",
   "metadata": {},
   "source": [
    "After many experiments, binning worked better only for months column"
   ]
  },
  {
   "cell_type": "markdown",
   "id": "c3c3a8ef-8e9e-4302-b717-4f4695a060e8",
   "metadata": {},
   "source": [
    "As mentioned in Section 1, we realize that there are particular months in which is more likely that clients would take the deposit: __March, September, October and December__"
   ]
  },
  {
   "cell_type": "code",
   "execution_count": 35,
   "id": "048061d0-fb2d-48ec-aa69-9e4b266c82e1",
   "metadata": {},
   "outputs": [
    {
     "data": {
      "text/html": [
       "<div>\n",
       "<style scoped>\n",
       "    .dataframe tbody tr th:only-of-type {\n",
       "        vertical-align: middle;\n",
       "    }\n",
       "\n",
       "    .dataframe tbody tr th {\n",
       "        vertical-align: top;\n",
       "    }\n",
       "\n",
       "    .dataframe thead th {\n",
       "        text-align: right;\n",
       "    }\n",
       "</style>\n",
       "<table border=\"1\" class=\"dataframe\">\n",
       "  <thead>\n",
       "    <tr style=\"text-align: right;\">\n",
       "      <th></th>\n",
       "      <th>age</th>\n",
       "      <th>job</th>\n",
       "      <th>contact</th>\n",
       "      <th>day_of_week</th>\n",
       "      <th>emp.var.rate</th>\n",
       "      <th>cons.price.idx</th>\n",
       "      <th>cons.conf.idx</th>\n",
       "      <th>euribor3m</th>\n",
       "      <th>nr.employed</th>\n",
       "      <th>y</th>\n",
       "      <th>education</th>\n",
       "      <th>month</th>\n",
       "      <th>NewEducation</th>\n",
       "      <th>BinnedMonth</th>\n",
       "    </tr>\n",
       "  </thead>\n",
       "  <tbody>\n",
       "    <tr>\n",
       "      <th>0</th>\n",
       "      <td>56</td>\n",
       "      <td>housekeeper</td>\n",
       "      <td>telephone</td>\n",
       "      <td>mon</td>\n",
       "      <td>1.1</td>\n",
       "      <td>93.994</td>\n",
       "      <td>-36.4</td>\n",
       "      <td>4.857</td>\n",
       "      <td>5191.0</td>\n",
       "      <td>no</td>\n",
       "      <td>basic.4y</td>\n",
       "      <td>may</td>\n",
       "      <td>basic.4y</td>\n",
       "      <td>0</td>\n",
       "    </tr>\n",
       "    <tr>\n",
       "      <th>1</th>\n",
       "      <td>57</td>\n",
       "      <td>services</td>\n",
       "      <td>telephone</td>\n",
       "      <td>mon</td>\n",
       "      <td>1.1</td>\n",
       "      <td>93.994</td>\n",
       "      <td>-36.4</td>\n",
       "      <td>4.857</td>\n",
       "      <td>5191.0</td>\n",
       "      <td>no</td>\n",
       "      <td>high.school</td>\n",
       "      <td>may</td>\n",
       "      <td>high.school</td>\n",
       "      <td>0</td>\n",
       "    </tr>\n",
       "    <tr>\n",
       "      <th>2</th>\n",
       "      <td>37</td>\n",
       "      <td>services</td>\n",
       "      <td>telephone</td>\n",
       "      <td>mon</td>\n",
       "      <td>1.1</td>\n",
       "      <td>93.994</td>\n",
       "      <td>-36.4</td>\n",
       "      <td>4.857</td>\n",
       "      <td>5191.0</td>\n",
       "      <td>no</td>\n",
       "      <td>high.school</td>\n",
       "      <td>may</td>\n",
       "      <td>high.school</td>\n",
       "      <td>0</td>\n",
       "    </tr>\n",
       "    <tr>\n",
       "      <th>3</th>\n",
       "      <td>40</td>\n",
       "      <td>admin.</td>\n",
       "      <td>telephone</td>\n",
       "      <td>mon</td>\n",
       "      <td>1.1</td>\n",
       "      <td>93.994</td>\n",
       "      <td>-36.4</td>\n",
       "      <td>4.857</td>\n",
       "      <td>5191.0</td>\n",
       "      <td>no</td>\n",
       "      <td>basic.6y</td>\n",
       "      <td>may</td>\n",
       "      <td>basic.6y</td>\n",
       "      <td>0</td>\n",
       "    </tr>\n",
       "    <tr>\n",
       "      <th>4</th>\n",
       "      <td>56</td>\n",
       "      <td>services</td>\n",
       "      <td>telephone</td>\n",
       "      <td>mon</td>\n",
       "      <td>1.1</td>\n",
       "      <td>93.994</td>\n",
       "      <td>-36.4</td>\n",
       "      <td>4.857</td>\n",
       "      <td>5191.0</td>\n",
       "      <td>no</td>\n",
       "      <td>high.school</td>\n",
       "      <td>may</td>\n",
       "      <td>high.school</td>\n",
       "      <td>0</td>\n",
       "    </tr>\n",
       "    <tr>\n",
       "      <th>...</th>\n",
       "      <td>...</td>\n",
       "      <td>...</td>\n",
       "      <td>...</td>\n",
       "      <td>...</td>\n",
       "      <td>...</td>\n",
       "      <td>...</td>\n",
       "      <td>...</td>\n",
       "      <td>...</td>\n",
       "      <td>...</td>\n",
       "      <td>...</td>\n",
       "      <td>...</td>\n",
       "      <td>...</td>\n",
       "      <td>...</td>\n",
       "      <td>...</td>\n",
       "    </tr>\n",
       "    <tr>\n",
       "      <th>41183</th>\n",
       "      <td>73</td>\n",
       "      <td>retired</td>\n",
       "      <td>cellular</td>\n",
       "      <td>fri</td>\n",
       "      <td>-1.1</td>\n",
       "      <td>94.767</td>\n",
       "      <td>-50.8</td>\n",
       "      <td>1.028</td>\n",
       "      <td>4963.6</td>\n",
       "      <td>yes</td>\n",
       "      <td>professional.course</td>\n",
       "      <td>nov</td>\n",
       "      <td>professional.course</td>\n",
       "      <td>0</td>\n",
       "    </tr>\n",
       "    <tr>\n",
       "      <th>41184</th>\n",
       "      <td>46</td>\n",
       "      <td>blue-collar</td>\n",
       "      <td>cellular</td>\n",
       "      <td>fri</td>\n",
       "      <td>-1.1</td>\n",
       "      <td>94.767</td>\n",
       "      <td>-50.8</td>\n",
       "      <td>1.028</td>\n",
       "      <td>4963.6</td>\n",
       "      <td>no</td>\n",
       "      <td>professional.course</td>\n",
       "      <td>nov</td>\n",
       "      <td>professional.course</td>\n",
       "      <td>0</td>\n",
       "    </tr>\n",
       "    <tr>\n",
       "      <th>41185</th>\n",
       "      <td>56</td>\n",
       "      <td>retired</td>\n",
       "      <td>cellular</td>\n",
       "      <td>fri</td>\n",
       "      <td>-1.1</td>\n",
       "      <td>94.767</td>\n",
       "      <td>-50.8</td>\n",
       "      <td>1.028</td>\n",
       "      <td>4963.6</td>\n",
       "      <td>no</td>\n",
       "      <td>university.degree</td>\n",
       "      <td>nov</td>\n",
       "      <td>university.degree</td>\n",
       "      <td>0</td>\n",
       "    </tr>\n",
       "    <tr>\n",
       "      <th>41186</th>\n",
       "      <td>44</td>\n",
       "      <td>technician</td>\n",
       "      <td>cellular</td>\n",
       "      <td>fri</td>\n",
       "      <td>-1.1</td>\n",
       "      <td>94.767</td>\n",
       "      <td>-50.8</td>\n",
       "      <td>1.028</td>\n",
       "      <td>4963.6</td>\n",
       "      <td>yes</td>\n",
       "      <td>professional.course</td>\n",
       "      <td>nov</td>\n",
       "      <td>professional.course</td>\n",
       "      <td>0</td>\n",
       "    </tr>\n",
       "    <tr>\n",
       "      <th>41187</th>\n",
       "      <td>74</td>\n",
       "      <td>retired</td>\n",
       "      <td>cellular</td>\n",
       "      <td>fri</td>\n",
       "      <td>-1.1</td>\n",
       "      <td>94.767</td>\n",
       "      <td>-50.8</td>\n",
       "      <td>1.028</td>\n",
       "      <td>4963.6</td>\n",
       "      <td>no</td>\n",
       "      <td>professional.course</td>\n",
       "      <td>nov</td>\n",
       "      <td>professional.course</td>\n",
       "      <td>0</td>\n",
       "    </tr>\n",
       "  </tbody>\n",
       "</table>\n",
       "<p>40846 rows × 14 columns</p>\n",
       "</div>"
      ],
      "text/plain": [
       "       age          job    contact day_of_week  emp.var.rate  cons.price.idx  \\\n",
       "0       56  housekeeper  telephone         mon           1.1          93.994   \n",
       "1       57     services  telephone         mon           1.1          93.994   \n",
       "2       37     services  telephone         mon           1.1          93.994   \n",
       "3       40       admin.  telephone         mon           1.1          93.994   \n",
       "4       56     services  telephone         mon           1.1          93.994   \n",
       "...    ...          ...        ...         ...           ...             ...   \n",
       "41183   73      retired   cellular         fri          -1.1          94.767   \n",
       "41184   46  blue-collar   cellular         fri          -1.1          94.767   \n",
       "41185   56      retired   cellular         fri          -1.1          94.767   \n",
       "41186   44   technician   cellular         fri          -1.1          94.767   \n",
       "41187   74      retired   cellular         fri          -1.1          94.767   \n",
       "\n",
       "       cons.conf.idx  euribor3m  nr.employed    y            education month  \\\n",
       "0              -36.4      4.857       5191.0   no             basic.4y   may   \n",
       "1              -36.4      4.857       5191.0   no          high.school   may   \n",
       "2              -36.4      4.857       5191.0   no          high.school   may   \n",
       "3              -36.4      4.857       5191.0   no             basic.6y   may   \n",
       "4              -36.4      4.857       5191.0   no          high.school   may   \n",
       "...              ...        ...          ...  ...                  ...   ...   \n",
       "41183          -50.8      1.028       4963.6  yes  professional.course   nov   \n",
       "41184          -50.8      1.028       4963.6   no  professional.course   nov   \n",
       "41185          -50.8      1.028       4963.6   no    university.degree   nov   \n",
       "41186          -50.8      1.028       4963.6  yes  professional.course   nov   \n",
       "41187          -50.8      1.028       4963.6   no  professional.course   nov   \n",
       "\n",
       "              NewEducation  BinnedMonth  \n",
       "0                 basic.4y            0  \n",
       "1              high.school            0  \n",
       "2              high.school            0  \n",
       "3                 basic.6y            0  \n",
       "4              high.school            0  \n",
       "...                    ...          ...  \n",
       "41183  professional.course            0  \n",
       "41184  professional.course            0  \n",
       "41185    university.degree            0  \n",
       "41186  professional.course            0  \n",
       "41187  professional.course            0  \n",
       "\n",
       "[40846 rows x 14 columns]"
      ]
     },
     "execution_count": 35,
     "metadata": {},
     "output_type": "execute_result"
    }
   ],
   "source": [
    "ut.make_bins_categorical(data , [\"mar\" , \"sep\" , \"oct\" , \"dec\"] , \"month\" , \"BinnedMonth\")"
   ]
  },
  {
   "cell_type": "markdown",
   "id": "4715666f-0cda-451a-a57b-2fa951db0ac8",
   "metadata": {},
   "source": [
    "### Section 2.3 : Adding Ratio"
   ]
  },
  {
   "cell_type": "code",
   "execution_count": 36,
   "id": "6ff4be9f-c24b-44b4-b52f-9ac3dc5df98d",
   "metadata": {},
   "outputs": [],
   "source": [
    "data = pd.merge(data , ratio)"
   ]
  },
  {
   "cell_type": "code",
   "execution_count": 37,
   "id": "bf08b09b-1c25-456c-92de-61da34b546ef",
   "metadata": {},
   "outputs": [
    {
     "data": {
      "text/html": [
       "<div>\n",
       "<style scoped>\n",
       "    .dataframe tbody tr th:only-of-type {\n",
       "        vertical-align: middle;\n",
       "    }\n",
       "\n",
       "    .dataframe tbody tr th {\n",
       "        vertical-align: top;\n",
       "    }\n",
       "\n",
       "    .dataframe thead th {\n",
       "        text-align: right;\n",
       "    }\n",
       "</style>\n",
       "<table border=\"1\" class=\"dataframe\">\n",
       "  <thead>\n",
       "    <tr style=\"text-align: right;\">\n",
       "      <th></th>\n",
       "      <th>age</th>\n",
       "      <th>job</th>\n",
       "      <th>contact</th>\n",
       "      <th>day_of_week</th>\n",
       "      <th>emp.var.rate</th>\n",
       "      <th>cons.price.idx</th>\n",
       "      <th>cons.conf.idx</th>\n",
       "      <th>euribor3m</th>\n",
       "      <th>nr.employed</th>\n",
       "      <th>y</th>\n",
       "      <th>education</th>\n",
       "      <th>month</th>\n",
       "      <th>NewEducation</th>\n",
       "      <th>BinnedMonth</th>\n",
       "      <th>ratio</th>\n",
       "    </tr>\n",
       "  </thead>\n",
       "  <tbody>\n",
       "    <tr>\n",
       "      <th>0</th>\n",
       "      <td>56</td>\n",
       "      <td>housekeeper</td>\n",
       "      <td>telephone</td>\n",
       "      <td>mon</td>\n",
       "      <td>1.1</td>\n",
       "      <td>93.994</td>\n",
       "      <td>-36.4</td>\n",
       "      <td>4.857</td>\n",
       "      <td>5191.0</td>\n",
       "      <td>no</td>\n",
       "      <td>basic.4y</td>\n",
       "      <td>may</td>\n",
       "      <td>basic.4y</td>\n",
       "      <td>0</td>\n",
       "      <td>6.44</td>\n",
       "    </tr>\n",
       "  </tbody>\n",
       "</table>\n",
       "</div>"
      ],
      "text/plain": [
       "   age          job    contact day_of_week  emp.var.rate  cons.price.idx  \\\n",
       "0   56  housekeeper  telephone         mon           1.1          93.994   \n",
       "\n",
       "   cons.conf.idx  euribor3m  nr.employed   y education month NewEducation  \\\n",
       "0          -36.4      4.857       5191.0  no  basic.4y   may     basic.4y   \n",
       "\n",
       "   BinnedMonth  ratio  \n",
       "0            0   6.44  "
      ]
     },
     "execution_count": 37,
     "metadata": {},
     "output_type": "execute_result"
    }
   ],
   "source": [
    "data.head(1)"
   ]
  },
  {
   "cell_type": "markdown",
   "id": "2994b291-f4db-4c12-9efc-ddd98da2ca7e",
   "metadata": {},
   "source": [
    "### Section 2.4 : Deleting Features"
   ]
  },
  {
   "cell_type": "code",
   "execution_count": 38,
   "id": "24d69a91-a4e6-426e-8e4a-d5631ee07352",
   "metadata": {},
   "outputs": [],
   "source": [
    "data.drop([ \"education\" , \"month\"] , axis = 1 , inplace = True)"
   ]
  },
  {
   "cell_type": "code",
   "execution_count": 39,
   "id": "a2601ad6-7460-473a-8035-866e3c018e7a",
   "metadata": {},
   "outputs": [
    {
     "data": {
      "text/html": [
       "<div>\n",
       "<style scoped>\n",
       "    .dataframe tbody tr th:only-of-type {\n",
       "        vertical-align: middle;\n",
       "    }\n",
       "\n",
       "    .dataframe tbody tr th {\n",
       "        vertical-align: top;\n",
       "    }\n",
       "\n",
       "    .dataframe thead th {\n",
       "        text-align: right;\n",
       "    }\n",
       "</style>\n",
       "<table border=\"1\" class=\"dataframe\">\n",
       "  <thead>\n",
       "    <tr style=\"text-align: right;\">\n",
       "      <th></th>\n",
       "      <th>age</th>\n",
       "      <th>job</th>\n",
       "      <th>contact</th>\n",
       "      <th>day_of_week</th>\n",
       "      <th>emp.var.rate</th>\n",
       "      <th>cons.price.idx</th>\n",
       "      <th>cons.conf.idx</th>\n",
       "      <th>euribor3m</th>\n",
       "      <th>nr.employed</th>\n",
       "      <th>y</th>\n",
       "      <th>NewEducation</th>\n",
       "      <th>BinnedMonth</th>\n",
       "      <th>ratio</th>\n",
       "    </tr>\n",
       "  </thead>\n",
       "  <tbody>\n",
       "    <tr>\n",
       "      <th>0</th>\n",
       "      <td>56</td>\n",
       "      <td>housekeeper</td>\n",
       "      <td>telephone</td>\n",
       "      <td>mon</td>\n",
       "      <td>1.1</td>\n",
       "      <td>93.994</td>\n",
       "      <td>-36.4</td>\n",
       "      <td>4.857</td>\n",
       "      <td>5191.0</td>\n",
       "      <td>no</td>\n",
       "      <td>basic.4y</td>\n",
       "      <td>0</td>\n",
       "      <td>6.44</td>\n",
       "    </tr>\n",
       "  </tbody>\n",
       "</table>\n",
       "</div>"
      ],
      "text/plain": [
       "   age          job    contact day_of_week  emp.var.rate  cons.price.idx  \\\n",
       "0   56  housekeeper  telephone         mon           1.1          93.994   \n",
       "\n",
       "   cons.conf.idx  euribor3m  nr.employed   y NewEducation  BinnedMonth  ratio  \n",
       "0          -36.4      4.857       5191.0  no     basic.4y            0   6.44  "
      ]
     },
     "execution_count": 39,
     "metadata": {},
     "output_type": "execute_result"
    }
   ],
   "source": [
    "data.head(1)"
   ]
  },
  {
   "cell_type": "markdown",
   "id": "21e1a5c5-bedd-4f6b-8a61-9a2ab5d4cb55",
   "metadata": {},
   "source": [
    "### Section 2.5 : Getting Dummies"
   ]
  },
  {
   "cell_type": "code",
   "execution_count": 40,
   "id": "1eda2104-a8ea-4c55-917c-eedea4f0ce2a",
   "metadata": {},
   "outputs": [],
   "source": [
    "categorical_vals = pd.get_dummies(data[[\"job\" , \"contact\" , \"y\" ,\"NewEducation\", \"day_of_week\"]] , drop_first = True)\n",
    "#categorical_vals = pd.get_dummies(data[[\"job\" , \"contact\" , \"y\" ,\"NewEducation\"]] , drop_first = True)"
   ]
  },
  {
   "cell_type": "code",
   "execution_count": 41,
   "id": "072708f9-af91-4a46-9857-959d4dd0eac5",
   "metadata": {},
   "outputs": [
    {
     "data": {
      "text/html": [
       "<div>\n",
       "<style scoped>\n",
       "    .dataframe tbody tr th:only-of-type {\n",
       "        vertical-align: middle;\n",
       "    }\n",
       "\n",
       "    .dataframe tbody tr th {\n",
       "        vertical-align: top;\n",
       "    }\n",
       "\n",
       "    .dataframe thead th {\n",
       "        text-align: right;\n",
       "    }\n",
       "</style>\n",
       "<table border=\"1\" class=\"dataframe\">\n",
       "  <thead>\n",
       "    <tr style=\"text-align: right;\">\n",
       "      <th></th>\n",
       "      <th>job_blue-collar</th>\n",
       "      <th>job_entrepreneur</th>\n",
       "      <th>job_housekeeper</th>\n",
       "      <th>job_management</th>\n",
       "      <th>job_retired</th>\n",
       "      <th>job_self-employed</th>\n",
       "      <th>job_services</th>\n",
       "      <th>job_student</th>\n",
       "      <th>job_technician</th>\n",
       "      <th>job_unemployed</th>\n",
       "      <th>contact_telephone</th>\n",
       "      <th>y_yes</th>\n",
       "      <th>NewEducation_basic.6y</th>\n",
       "      <th>NewEducation_basic.9y</th>\n",
       "      <th>NewEducation_high.school</th>\n",
       "      <th>NewEducation_illiterate</th>\n",
       "      <th>NewEducation_professional.course</th>\n",
       "      <th>NewEducation_university.degree</th>\n",
       "      <th>day_of_week_mon</th>\n",
       "      <th>day_of_week_thu</th>\n",
       "      <th>day_of_week_tue</th>\n",
       "      <th>day_of_week_wed</th>\n",
       "    </tr>\n",
       "  </thead>\n",
       "  <tbody>\n",
       "    <tr>\n",
       "      <th>0</th>\n",
       "      <td>0</td>\n",
       "      <td>0</td>\n",
       "      <td>1</td>\n",
       "      <td>0</td>\n",
       "      <td>0</td>\n",
       "      <td>0</td>\n",
       "      <td>0</td>\n",
       "      <td>0</td>\n",
       "      <td>0</td>\n",
       "      <td>0</td>\n",
       "      <td>1</td>\n",
       "      <td>0</td>\n",
       "      <td>0</td>\n",
       "      <td>0</td>\n",
       "      <td>0</td>\n",
       "      <td>0</td>\n",
       "      <td>0</td>\n",
       "      <td>0</td>\n",
       "      <td>1</td>\n",
       "      <td>0</td>\n",
       "      <td>0</td>\n",
       "      <td>0</td>\n",
       "    </tr>\n",
       "    <tr>\n",
       "      <th>1</th>\n",
       "      <td>0</td>\n",
       "      <td>0</td>\n",
       "      <td>0</td>\n",
       "      <td>0</td>\n",
       "      <td>0</td>\n",
       "      <td>0</td>\n",
       "      <td>1</td>\n",
       "      <td>0</td>\n",
       "      <td>0</td>\n",
       "      <td>0</td>\n",
       "      <td>1</td>\n",
       "      <td>0</td>\n",
       "      <td>0</td>\n",
       "      <td>0</td>\n",
       "      <td>1</td>\n",
       "      <td>0</td>\n",
       "      <td>0</td>\n",
       "      <td>0</td>\n",
       "      <td>1</td>\n",
       "      <td>0</td>\n",
       "      <td>0</td>\n",
       "      <td>0</td>\n",
       "    </tr>\n",
       "    <tr>\n",
       "      <th>2</th>\n",
       "      <td>0</td>\n",
       "      <td>0</td>\n",
       "      <td>0</td>\n",
       "      <td>0</td>\n",
       "      <td>0</td>\n",
       "      <td>0</td>\n",
       "      <td>1</td>\n",
       "      <td>0</td>\n",
       "      <td>0</td>\n",
       "      <td>0</td>\n",
       "      <td>1</td>\n",
       "      <td>0</td>\n",
       "      <td>0</td>\n",
       "      <td>0</td>\n",
       "      <td>1</td>\n",
       "      <td>0</td>\n",
       "      <td>0</td>\n",
       "      <td>0</td>\n",
       "      <td>1</td>\n",
       "      <td>0</td>\n",
       "      <td>0</td>\n",
       "      <td>0</td>\n",
       "    </tr>\n",
       "    <tr>\n",
       "      <th>3</th>\n",
       "      <td>0</td>\n",
       "      <td>0</td>\n",
       "      <td>0</td>\n",
       "      <td>0</td>\n",
       "      <td>0</td>\n",
       "      <td>0</td>\n",
       "      <td>0</td>\n",
       "      <td>0</td>\n",
       "      <td>0</td>\n",
       "      <td>0</td>\n",
       "      <td>1</td>\n",
       "      <td>0</td>\n",
       "      <td>1</td>\n",
       "      <td>0</td>\n",
       "      <td>0</td>\n",
       "      <td>0</td>\n",
       "      <td>0</td>\n",
       "      <td>0</td>\n",
       "      <td>1</td>\n",
       "      <td>0</td>\n",
       "      <td>0</td>\n",
       "      <td>0</td>\n",
       "    </tr>\n",
       "    <tr>\n",
       "      <th>4</th>\n",
       "      <td>0</td>\n",
       "      <td>0</td>\n",
       "      <td>0</td>\n",
       "      <td>0</td>\n",
       "      <td>0</td>\n",
       "      <td>0</td>\n",
       "      <td>1</td>\n",
       "      <td>0</td>\n",
       "      <td>0</td>\n",
       "      <td>0</td>\n",
       "      <td>1</td>\n",
       "      <td>0</td>\n",
       "      <td>0</td>\n",
       "      <td>0</td>\n",
       "      <td>1</td>\n",
       "      <td>0</td>\n",
       "      <td>0</td>\n",
       "      <td>0</td>\n",
       "      <td>1</td>\n",
       "      <td>0</td>\n",
       "      <td>0</td>\n",
       "      <td>0</td>\n",
       "    </tr>\n",
       "    <tr>\n",
       "      <th>...</th>\n",
       "      <td>...</td>\n",
       "      <td>...</td>\n",
       "      <td>...</td>\n",
       "      <td>...</td>\n",
       "      <td>...</td>\n",
       "      <td>...</td>\n",
       "      <td>...</td>\n",
       "      <td>...</td>\n",
       "      <td>...</td>\n",
       "      <td>...</td>\n",
       "      <td>...</td>\n",
       "      <td>...</td>\n",
       "      <td>...</td>\n",
       "      <td>...</td>\n",
       "      <td>...</td>\n",
       "      <td>...</td>\n",
       "      <td>...</td>\n",
       "      <td>...</td>\n",
       "      <td>...</td>\n",
       "      <td>...</td>\n",
       "      <td>...</td>\n",
       "      <td>...</td>\n",
       "    </tr>\n",
       "    <tr>\n",
       "      <th>40841</th>\n",
       "      <td>0</td>\n",
       "      <td>0</td>\n",
       "      <td>0</td>\n",
       "      <td>1</td>\n",
       "      <td>0</td>\n",
       "      <td>0</td>\n",
       "      <td>0</td>\n",
       "      <td>0</td>\n",
       "      <td>0</td>\n",
       "      <td>0</td>\n",
       "      <td>0</td>\n",
       "      <td>1</td>\n",
       "      <td>0</td>\n",
       "      <td>0</td>\n",
       "      <td>0</td>\n",
       "      <td>0</td>\n",
       "      <td>0</td>\n",
       "      <td>1</td>\n",
       "      <td>0</td>\n",
       "      <td>0</td>\n",
       "      <td>0</td>\n",
       "      <td>1</td>\n",
       "    </tr>\n",
       "    <tr>\n",
       "      <th>40842</th>\n",
       "      <td>0</td>\n",
       "      <td>0</td>\n",
       "      <td>0</td>\n",
       "      <td>0</td>\n",
       "      <td>0</td>\n",
       "      <td>0</td>\n",
       "      <td>0</td>\n",
       "      <td>0</td>\n",
       "      <td>0</td>\n",
       "      <td>0</td>\n",
       "      <td>0</td>\n",
       "      <td>1</td>\n",
       "      <td>0</td>\n",
       "      <td>0</td>\n",
       "      <td>0</td>\n",
       "      <td>0</td>\n",
       "      <td>0</td>\n",
       "      <td>1</td>\n",
       "      <td>0</td>\n",
       "      <td>0</td>\n",
       "      <td>0</td>\n",
       "      <td>1</td>\n",
       "    </tr>\n",
       "    <tr>\n",
       "      <th>40843</th>\n",
       "      <td>0</td>\n",
       "      <td>0</td>\n",
       "      <td>0</td>\n",
       "      <td>0</td>\n",
       "      <td>0</td>\n",
       "      <td>0</td>\n",
       "      <td>0</td>\n",
       "      <td>0</td>\n",
       "      <td>0</td>\n",
       "      <td>0</td>\n",
       "      <td>0</td>\n",
       "      <td>0</td>\n",
       "      <td>0</td>\n",
       "      <td>0</td>\n",
       "      <td>0</td>\n",
       "      <td>0</td>\n",
       "      <td>0</td>\n",
       "      <td>1</td>\n",
       "      <td>0</td>\n",
       "      <td>0</td>\n",
       "      <td>0</td>\n",
       "      <td>1</td>\n",
       "    </tr>\n",
       "    <tr>\n",
       "      <th>40844</th>\n",
       "      <td>0</td>\n",
       "      <td>0</td>\n",
       "      <td>0</td>\n",
       "      <td>0</td>\n",
       "      <td>0</td>\n",
       "      <td>0</td>\n",
       "      <td>0</td>\n",
       "      <td>0</td>\n",
       "      <td>0</td>\n",
       "      <td>0</td>\n",
       "      <td>0</td>\n",
       "      <td>1</td>\n",
       "      <td>0</td>\n",
       "      <td>0</td>\n",
       "      <td>0</td>\n",
       "      <td>0</td>\n",
       "      <td>0</td>\n",
       "      <td>1</td>\n",
       "      <td>0</td>\n",
       "      <td>0</td>\n",
       "      <td>0</td>\n",
       "      <td>1</td>\n",
       "    </tr>\n",
       "    <tr>\n",
       "      <th>40845</th>\n",
       "      <td>0</td>\n",
       "      <td>0</td>\n",
       "      <td>0</td>\n",
       "      <td>0</td>\n",
       "      <td>0</td>\n",
       "      <td>0</td>\n",
       "      <td>0</td>\n",
       "      <td>0</td>\n",
       "      <td>0</td>\n",
       "      <td>0</td>\n",
       "      <td>0</td>\n",
       "      <td>1</td>\n",
       "      <td>0</td>\n",
       "      <td>0</td>\n",
       "      <td>0</td>\n",
       "      <td>0</td>\n",
       "      <td>0</td>\n",
       "      <td>1</td>\n",
       "      <td>0</td>\n",
       "      <td>0</td>\n",
       "      <td>0</td>\n",
       "      <td>1</td>\n",
       "    </tr>\n",
       "  </tbody>\n",
       "</table>\n",
       "<p>40846 rows × 22 columns</p>\n",
       "</div>"
      ],
      "text/plain": [
       "       job_blue-collar  job_entrepreneur  job_housekeeper  job_management  \\\n",
       "0                    0                 0                1               0   \n",
       "1                    0                 0                0               0   \n",
       "2                    0                 0                0               0   \n",
       "3                    0                 0                0               0   \n",
       "4                    0                 0                0               0   \n",
       "...                ...               ...              ...             ...   \n",
       "40841                0                 0                0               1   \n",
       "40842                0                 0                0               0   \n",
       "40843                0                 0                0               0   \n",
       "40844                0                 0                0               0   \n",
       "40845                0                 0                0               0   \n",
       "\n",
       "       job_retired  job_self-employed  job_services  job_student  \\\n",
       "0                0                  0             0            0   \n",
       "1                0                  0             1            0   \n",
       "2                0                  0             1            0   \n",
       "3                0                  0             0            0   \n",
       "4                0                  0             1            0   \n",
       "...            ...                ...           ...          ...   \n",
       "40841            0                  0             0            0   \n",
       "40842            0                  0             0            0   \n",
       "40843            0                  0             0            0   \n",
       "40844            0                  0             0            0   \n",
       "40845            0                  0             0            0   \n",
       "\n",
       "       job_technician  job_unemployed  contact_telephone  y_yes  \\\n",
       "0                   0               0                  1      0   \n",
       "1                   0               0                  1      0   \n",
       "2                   0               0                  1      0   \n",
       "3                   0               0                  1      0   \n",
       "4                   0               0                  1      0   \n",
       "...               ...             ...                ...    ...   \n",
       "40841               0               0                  0      1   \n",
       "40842               0               0                  0      1   \n",
       "40843               0               0                  0      0   \n",
       "40844               0               0                  0      1   \n",
       "40845               0               0                  0      1   \n",
       "\n",
       "       NewEducation_basic.6y  NewEducation_basic.9y  NewEducation_high.school  \\\n",
       "0                          0                      0                         0   \n",
       "1                          0                      0                         1   \n",
       "2                          0                      0                         1   \n",
       "3                          1                      0                         0   \n",
       "4                          0                      0                         1   \n",
       "...                      ...                    ...                       ...   \n",
       "40841                      0                      0                         0   \n",
       "40842                      0                      0                         0   \n",
       "40843                      0                      0                         0   \n",
       "40844                      0                      0                         0   \n",
       "40845                      0                      0                         0   \n",
       "\n",
       "       NewEducation_illiterate  NewEducation_professional.course  \\\n",
       "0                            0                                 0   \n",
       "1                            0                                 0   \n",
       "2                            0                                 0   \n",
       "3                            0                                 0   \n",
       "4                            0                                 0   \n",
       "...                        ...                               ...   \n",
       "40841                        0                                 0   \n",
       "40842                        0                                 0   \n",
       "40843                        0                                 0   \n",
       "40844                        0                                 0   \n",
       "40845                        0                                 0   \n",
       "\n",
       "       NewEducation_university.degree  day_of_week_mon  day_of_week_thu  \\\n",
       "0                                   0                1                0   \n",
       "1                                   0                1                0   \n",
       "2                                   0                1                0   \n",
       "3                                   0                1                0   \n",
       "4                                   0                1                0   \n",
       "...                               ...              ...              ...   \n",
       "40841                               1                0                0   \n",
       "40842                               1                0                0   \n",
       "40843                               1                0                0   \n",
       "40844                               1                0                0   \n",
       "40845                               1                0                0   \n",
       "\n",
       "       day_of_week_tue  day_of_week_wed  \n",
       "0                    0                0  \n",
       "1                    0                0  \n",
       "2                    0                0  \n",
       "3                    0                0  \n",
       "4                    0                0  \n",
       "...                ...              ...  \n",
       "40841                0                1  \n",
       "40842                0                1  \n",
       "40843                0                1  \n",
       "40844                0                1  \n",
       "40845                0                1  \n",
       "\n",
       "[40846 rows x 22 columns]"
      ]
     },
     "execution_count": 41,
     "metadata": {},
     "output_type": "execute_result"
    }
   ],
   "source": [
    "categorical_vals"
   ]
  },
  {
   "cell_type": "markdown",
   "id": "e587c674-7696-4ecb-a7d9-f37dda27541f",
   "metadata": {},
   "source": [
    "### Section 2.6 : Merging Categorical Data"
   ]
  },
  {
   "cell_type": "code",
   "execution_count": 42,
   "id": "d94cf2de-8dda-41de-911d-51bc8c575298",
   "metadata": {},
   "outputs": [],
   "source": [
    "data.drop([\"job\" , \"contact\" , \"y\" ,\"NewEducation\",\"day_of_week\"] , axis = 1 , inplace = True)"
   ]
  },
  {
   "cell_type": "code",
   "execution_count": 43,
   "id": "96fdc650-e4b0-460a-83ea-02d9782a3630",
   "metadata": {},
   "outputs": [],
   "source": [
    "data = pd.concat([data , categorical_vals] , axis = 1)"
   ]
  },
  {
   "cell_type": "code",
   "execution_count": 44,
   "id": "dbc21a18-ca41-4339-b23c-490c8f1603b0",
   "metadata": {},
   "outputs": [
    {
     "data": {
      "text/html": [
       "<div>\n",
       "<style scoped>\n",
       "    .dataframe tbody tr th:only-of-type {\n",
       "        vertical-align: middle;\n",
       "    }\n",
       "\n",
       "    .dataframe tbody tr th {\n",
       "        vertical-align: top;\n",
       "    }\n",
       "\n",
       "    .dataframe thead th {\n",
       "        text-align: right;\n",
       "    }\n",
       "</style>\n",
       "<table border=\"1\" class=\"dataframe\">\n",
       "  <thead>\n",
       "    <tr style=\"text-align: right;\">\n",
       "      <th></th>\n",
       "      <th>age</th>\n",
       "      <th>emp.var.rate</th>\n",
       "      <th>cons.price.idx</th>\n",
       "      <th>cons.conf.idx</th>\n",
       "      <th>euribor3m</th>\n",
       "      <th>nr.employed</th>\n",
       "      <th>BinnedMonth</th>\n",
       "      <th>ratio</th>\n",
       "      <th>job_blue-collar</th>\n",
       "      <th>job_entrepreneur</th>\n",
       "      <th>job_housekeeper</th>\n",
       "      <th>job_management</th>\n",
       "      <th>job_retired</th>\n",
       "      <th>job_self-employed</th>\n",
       "      <th>job_services</th>\n",
       "      <th>job_student</th>\n",
       "      <th>job_technician</th>\n",
       "      <th>job_unemployed</th>\n",
       "      <th>contact_telephone</th>\n",
       "      <th>y_yes</th>\n",
       "      <th>NewEducation_basic.6y</th>\n",
       "      <th>NewEducation_basic.9y</th>\n",
       "      <th>NewEducation_high.school</th>\n",
       "      <th>NewEducation_illiterate</th>\n",
       "      <th>NewEducation_professional.course</th>\n",
       "      <th>NewEducation_university.degree</th>\n",
       "      <th>day_of_week_mon</th>\n",
       "      <th>day_of_week_thu</th>\n",
       "      <th>day_of_week_tue</th>\n",
       "      <th>day_of_week_wed</th>\n",
       "    </tr>\n",
       "  </thead>\n",
       "  <tbody>\n",
       "    <tr>\n",
       "      <th>0</th>\n",
       "      <td>56</td>\n",
       "      <td>1.1</td>\n",
       "      <td>93.994</td>\n",
       "      <td>-36.4</td>\n",
       "      <td>4.857</td>\n",
       "      <td>5191.0</td>\n",
       "      <td>0</td>\n",
       "      <td>6.44</td>\n",
       "      <td>0</td>\n",
       "      <td>0</td>\n",
       "      <td>1</td>\n",
       "      <td>0</td>\n",
       "      <td>0</td>\n",
       "      <td>0</td>\n",
       "      <td>0</td>\n",
       "      <td>0</td>\n",
       "      <td>0</td>\n",
       "      <td>0</td>\n",
       "      <td>1</td>\n",
       "      <td>0</td>\n",
       "      <td>0</td>\n",
       "      <td>0</td>\n",
       "      <td>0</td>\n",
       "      <td>0</td>\n",
       "      <td>0</td>\n",
       "      <td>0</td>\n",
       "      <td>1</td>\n",
       "      <td>0</td>\n",
       "      <td>0</td>\n",
       "      <td>0</td>\n",
       "    </tr>\n",
       "    <tr>\n",
       "      <th>1</th>\n",
       "      <td>57</td>\n",
       "      <td>1.1</td>\n",
       "      <td>93.994</td>\n",
       "      <td>-36.4</td>\n",
       "      <td>4.857</td>\n",
       "      <td>5191.0</td>\n",
       "      <td>0</td>\n",
       "      <td>6.44</td>\n",
       "      <td>0</td>\n",
       "      <td>0</td>\n",
       "      <td>0</td>\n",
       "      <td>0</td>\n",
       "      <td>0</td>\n",
       "      <td>0</td>\n",
       "      <td>1</td>\n",
       "      <td>0</td>\n",
       "      <td>0</td>\n",
       "      <td>0</td>\n",
       "      <td>1</td>\n",
       "      <td>0</td>\n",
       "      <td>0</td>\n",
       "      <td>0</td>\n",
       "      <td>1</td>\n",
       "      <td>0</td>\n",
       "      <td>0</td>\n",
       "      <td>0</td>\n",
       "      <td>1</td>\n",
       "      <td>0</td>\n",
       "      <td>0</td>\n",
       "      <td>0</td>\n",
       "    </tr>\n",
       "    <tr>\n",
       "      <th>2</th>\n",
       "      <td>37</td>\n",
       "      <td>1.1</td>\n",
       "      <td>93.994</td>\n",
       "      <td>-36.4</td>\n",
       "      <td>4.857</td>\n",
       "      <td>5191.0</td>\n",
       "      <td>0</td>\n",
       "      <td>6.44</td>\n",
       "      <td>0</td>\n",
       "      <td>0</td>\n",
       "      <td>0</td>\n",
       "      <td>0</td>\n",
       "      <td>0</td>\n",
       "      <td>0</td>\n",
       "      <td>1</td>\n",
       "      <td>0</td>\n",
       "      <td>0</td>\n",
       "      <td>0</td>\n",
       "      <td>1</td>\n",
       "      <td>0</td>\n",
       "      <td>0</td>\n",
       "      <td>0</td>\n",
       "      <td>1</td>\n",
       "      <td>0</td>\n",
       "      <td>0</td>\n",
       "      <td>0</td>\n",
       "      <td>1</td>\n",
       "      <td>0</td>\n",
       "      <td>0</td>\n",
       "      <td>0</td>\n",
       "    </tr>\n",
       "    <tr>\n",
       "      <th>3</th>\n",
       "      <td>40</td>\n",
       "      <td>1.1</td>\n",
       "      <td>93.994</td>\n",
       "      <td>-36.4</td>\n",
       "      <td>4.857</td>\n",
       "      <td>5191.0</td>\n",
       "      <td>0</td>\n",
       "      <td>6.44</td>\n",
       "      <td>0</td>\n",
       "      <td>0</td>\n",
       "      <td>0</td>\n",
       "      <td>0</td>\n",
       "      <td>0</td>\n",
       "      <td>0</td>\n",
       "      <td>0</td>\n",
       "      <td>0</td>\n",
       "      <td>0</td>\n",
       "      <td>0</td>\n",
       "      <td>1</td>\n",
       "      <td>0</td>\n",
       "      <td>1</td>\n",
       "      <td>0</td>\n",
       "      <td>0</td>\n",
       "      <td>0</td>\n",
       "      <td>0</td>\n",
       "      <td>0</td>\n",
       "      <td>1</td>\n",
       "      <td>0</td>\n",
       "      <td>0</td>\n",
       "      <td>0</td>\n",
       "    </tr>\n",
       "    <tr>\n",
       "      <th>4</th>\n",
       "      <td>56</td>\n",
       "      <td>1.1</td>\n",
       "      <td>93.994</td>\n",
       "      <td>-36.4</td>\n",
       "      <td>4.857</td>\n",
       "      <td>5191.0</td>\n",
       "      <td>0</td>\n",
       "      <td>6.44</td>\n",
       "      <td>0</td>\n",
       "      <td>0</td>\n",
       "      <td>0</td>\n",
       "      <td>0</td>\n",
       "      <td>0</td>\n",
       "      <td>0</td>\n",
       "      <td>1</td>\n",
       "      <td>0</td>\n",
       "      <td>0</td>\n",
       "      <td>0</td>\n",
       "      <td>1</td>\n",
       "      <td>0</td>\n",
       "      <td>0</td>\n",
       "      <td>0</td>\n",
       "      <td>1</td>\n",
       "      <td>0</td>\n",
       "      <td>0</td>\n",
       "      <td>0</td>\n",
       "      <td>1</td>\n",
       "      <td>0</td>\n",
       "      <td>0</td>\n",
       "      <td>0</td>\n",
       "    </tr>\n",
       "    <tr>\n",
       "      <th>...</th>\n",
       "      <td>...</td>\n",
       "      <td>...</td>\n",
       "      <td>...</td>\n",
       "      <td>...</td>\n",
       "      <td>...</td>\n",
       "      <td>...</td>\n",
       "      <td>...</td>\n",
       "      <td>...</td>\n",
       "      <td>...</td>\n",
       "      <td>...</td>\n",
       "      <td>...</td>\n",
       "      <td>...</td>\n",
       "      <td>...</td>\n",
       "      <td>...</td>\n",
       "      <td>...</td>\n",
       "      <td>...</td>\n",
       "      <td>...</td>\n",
       "      <td>...</td>\n",
       "      <td>...</td>\n",
       "      <td>...</td>\n",
       "      <td>...</td>\n",
       "      <td>...</td>\n",
       "      <td>...</td>\n",
       "      <td>...</td>\n",
       "      <td>...</td>\n",
       "      <td>...</td>\n",
       "      <td>...</td>\n",
       "      <td>...</td>\n",
       "      <td>...</td>\n",
       "      <td>...</td>\n",
       "    </tr>\n",
       "    <tr>\n",
       "      <th>40841</th>\n",
       "      <td>42</td>\n",
       "      <td>-1.1</td>\n",
       "      <td>94.199</td>\n",
       "      <td>-37.5</td>\n",
       "      <td>0.886</td>\n",
       "      <td>4963.6</td>\n",
       "      <td>1</td>\n",
       "      <td>44.91</td>\n",
       "      <td>0</td>\n",
       "      <td>0</td>\n",
       "      <td>0</td>\n",
       "      <td>1</td>\n",
       "      <td>0</td>\n",
       "      <td>0</td>\n",
       "      <td>0</td>\n",
       "      <td>0</td>\n",
       "      <td>0</td>\n",
       "      <td>0</td>\n",
       "      <td>0</td>\n",
       "      <td>1</td>\n",
       "      <td>0</td>\n",
       "      <td>0</td>\n",
       "      <td>0</td>\n",
       "      <td>0</td>\n",
       "      <td>0</td>\n",
       "      <td>1</td>\n",
       "      <td>0</td>\n",
       "      <td>0</td>\n",
       "      <td>0</td>\n",
       "      <td>1</td>\n",
       "    </tr>\n",
       "    <tr>\n",
       "      <th>40842</th>\n",
       "      <td>34</td>\n",
       "      <td>-1.1</td>\n",
       "      <td>94.199</td>\n",
       "      <td>-37.5</td>\n",
       "      <td>0.886</td>\n",
       "      <td>4963.6</td>\n",
       "      <td>1</td>\n",
       "      <td>44.91</td>\n",
       "      <td>0</td>\n",
       "      <td>0</td>\n",
       "      <td>0</td>\n",
       "      <td>0</td>\n",
       "      <td>0</td>\n",
       "      <td>0</td>\n",
       "      <td>0</td>\n",
       "      <td>0</td>\n",
       "      <td>0</td>\n",
       "      <td>0</td>\n",
       "      <td>0</td>\n",
       "      <td>1</td>\n",
       "      <td>0</td>\n",
       "      <td>0</td>\n",
       "      <td>0</td>\n",
       "      <td>0</td>\n",
       "      <td>0</td>\n",
       "      <td>1</td>\n",
       "      <td>0</td>\n",
       "      <td>0</td>\n",
       "      <td>0</td>\n",
       "      <td>1</td>\n",
       "    </tr>\n",
       "    <tr>\n",
       "      <th>40843</th>\n",
       "      <td>42</td>\n",
       "      <td>-1.1</td>\n",
       "      <td>94.199</td>\n",
       "      <td>-37.5</td>\n",
       "      <td>0.886</td>\n",
       "      <td>4963.6</td>\n",
       "      <td>1</td>\n",
       "      <td>44.91</td>\n",
       "      <td>0</td>\n",
       "      <td>0</td>\n",
       "      <td>0</td>\n",
       "      <td>0</td>\n",
       "      <td>0</td>\n",
       "      <td>0</td>\n",
       "      <td>0</td>\n",
       "      <td>0</td>\n",
       "      <td>0</td>\n",
       "      <td>0</td>\n",
       "      <td>0</td>\n",
       "      <td>0</td>\n",
       "      <td>0</td>\n",
       "      <td>0</td>\n",
       "      <td>0</td>\n",
       "      <td>0</td>\n",
       "      <td>0</td>\n",
       "      <td>1</td>\n",
       "      <td>0</td>\n",
       "      <td>0</td>\n",
       "      <td>0</td>\n",
       "      <td>1</td>\n",
       "    </tr>\n",
       "    <tr>\n",
       "      <th>40844</th>\n",
       "      <td>42</td>\n",
       "      <td>-1.1</td>\n",
       "      <td>94.199</td>\n",
       "      <td>-37.5</td>\n",
       "      <td>0.886</td>\n",
       "      <td>4963.6</td>\n",
       "      <td>1</td>\n",
       "      <td>44.91</td>\n",
       "      <td>0</td>\n",
       "      <td>0</td>\n",
       "      <td>0</td>\n",
       "      <td>0</td>\n",
       "      <td>0</td>\n",
       "      <td>0</td>\n",
       "      <td>0</td>\n",
       "      <td>0</td>\n",
       "      <td>0</td>\n",
       "      <td>0</td>\n",
       "      <td>0</td>\n",
       "      <td>1</td>\n",
       "      <td>0</td>\n",
       "      <td>0</td>\n",
       "      <td>0</td>\n",
       "      <td>0</td>\n",
       "      <td>0</td>\n",
       "      <td>1</td>\n",
       "      <td>0</td>\n",
       "      <td>0</td>\n",
       "      <td>0</td>\n",
       "      <td>1</td>\n",
       "    </tr>\n",
       "    <tr>\n",
       "      <th>40845</th>\n",
       "      <td>41</td>\n",
       "      <td>-1.1</td>\n",
       "      <td>94.199</td>\n",
       "      <td>-37.5</td>\n",
       "      <td>0.886</td>\n",
       "      <td>4963.6</td>\n",
       "      <td>1</td>\n",
       "      <td>44.91</td>\n",
       "      <td>0</td>\n",
       "      <td>0</td>\n",
       "      <td>0</td>\n",
       "      <td>0</td>\n",
       "      <td>0</td>\n",
       "      <td>0</td>\n",
       "      <td>0</td>\n",
       "      <td>0</td>\n",
       "      <td>0</td>\n",
       "      <td>0</td>\n",
       "      <td>0</td>\n",
       "      <td>1</td>\n",
       "      <td>0</td>\n",
       "      <td>0</td>\n",
       "      <td>0</td>\n",
       "      <td>0</td>\n",
       "      <td>0</td>\n",
       "      <td>1</td>\n",
       "      <td>0</td>\n",
       "      <td>0</td>\n",
       "      <td>0</td>\n",
       "      <td>1</td>\n",
       "    </tr>\n",
       "  </tbody>\n",
       "</table>\n",
       "<p>40846 rows × 30 columns</p>\n",
       "</div>"
      ],
      "text/plain": [
       "       age  emp.var.rate  cons.price.idx  cons.conf.idx  euribor3m  \\\n",
       "0       56           1.1          93.994          -36.4      4.857   \n",
       "1       57           1.1          93.994          -36.4      4.857   \n",
       "2       37           1.1          93.994          -36.4      4.857   \n",
       "3       40           1.1          93.994          -36.4      4.857   \n",
       "4       56           1.1          93.994          -36.4      4.857   \n",
       "...    ...           ...             ...            ...        ...   \n",
       "40841   42          -1.1          94.199          -37.5      0.886   \n",
       "40842   34          -1.1          94.199          -37.5      0.886   \n",
       "40843   42          -1.1          94.199          -37.5      0.886   \n",
       "40844   42          -1.1          94.199          -37.5      0.886   \n",
       "40845   41          -1.1          94.199          -37.5      0.886   \n",
       "\n",
       "       nr.employed  BinnedMonth  ratio  job_blue-collar  job_entrepreneur  \\\n",
       "0           5191.0            0   6.44                0                 0   \n",
       "1           5191.0            0   6.44                0                 0   \n",
       "2           5191.0            0   6.44                0                 0   \n",
       "3           5191.0            0   6.44                0                 0   \n",
       "4           5191.0            0   6.44                0                 0   \n",
       "...            ...          ...    ...              ...               ...   \n",
       "40841       4963.6            1  44.91                0                 0   \n",
       "40842       4963.6            1  44.91                0                 0   \n",
       "40843       4963.6            1  44.91                0                 0   \n",
       "40844       4963.6            1  44.91                0                 0   \n",
       "40845       4963.6            1  44.91                0                 0   \n",
       "\n",
       "       job_housekeeper  job_management  job_retired  job_self-employed  \\\n",
       "0                    1               0            0                  0   \n",
       "1                    0               0            0                  0   \n",
       "2                    0               0            0                  0   \n",
       "3                    0               0            0                  0   \n",
       "4                    0               0            0                  0   \n",
       "...                ...             ...          ...                ...   \n",
       "40841                0               1            0                  0   \n",
       "40842                0               0            0                  0   \n",
       "40843                0               0            0                  0   \n",
       "40844                0               0            0                  0   \n",
       "40845                0               0            0                  0   \n",
       "\n",
       "       job_services  job_student  job_technician  job_unemployed  \\\n",
       "0                 0            0               0               0   \n",
       "1                 1            0               0               0   \n",
       "2                 1            0               0               0   \n",
       "3                 0            0               0               0   \n",
       "4                 1            0               0               0   \n",
       "...             ...          ...             ...             ...   \n",
       "40841             0            0               0               0   \n",
       "40842             0            0               0               0   \n",
       "40843             0            0               0               0   \n",
       "40844             0            0               0               0   \n",
       "40845             0            0               0               0   \n",
       "\n",
       "       contact_telephone  y_yes  NewEducation_basic.6y  NewEducation_basic.9y  \\\n",
       "0                      1      0                      0                      0   \n",
       "1                      1      0                      0                      0   \n",
       "2                      1      0                      0                      0   \n",
       "3                      1      0                      1                      0   \n",
       "4                      1      0                      0                      0   \n",
       "...                  ...    ...                    ...                    ...   \n",
       "40841                  0      1                      0                      0   \n",
       "40842                  0      1                      0                      0   \n",
       "40843                  0      0                      0                      0   \n",
       "40844                  0      1                      0                      0   \n",
       "40845                  0      1                      0                      0   \n",
       "\n",
       "       NewEducation_high.school  NewEducation_illiterate  \\\n",
       "0                             0                        0   \n",
       "1                             1                        0   \n",
       "2                             1                        0   \n",
       "3                             0                        0   \n",
       "4                             1                        0   \n",
       "...                         ...                      ...   \n",
       "40841                         0                        0   \n",
       "40842                         0                        0   \n",
       "40843                         0                        0   \n",
       "40844                         0                        0   \n",
       "40845                         0                        0   \n",
       "\n",
       "       NewEducation_professional.course  NewEducation_university.degree  \\\n",
       "0                                     0                               0   \n",
       "1                                     0                               0   \n",
       "2                                     0                               0   \n",
       "3                                     0                               0   \n",
       "4                                     0                               0   \n",
       "...                                 ...                             ...   \n",
       "40841                                 0                               1   \n",
       "40842                                 0                               1   \n",
       "40843                                 0                               1   \n",
       "40844                                 0                               1   \n",
       "40845                                 0                               1   \n",
       "\n",
       "       day_of_week_mon  day_of_week_thu  day_of_week_tue  day_of_week_wed  \n",
       "0                    1                0                0                0  \n",
       "1                    1                0                0                0  \n",
       "2                    1                0                0                0  \n",
       "3                    1                0                0                0  \n",
       "4                    1                0                0                0  \n",
       "...                ...              ...              ...              ...  \n",
       "40841                0                0                0                1  \n",
       "40842                0                0                0                1  \n",
       "40843                0                0                0                1  \n",
       "40844                0                0                0                1  \n",
       "40845                0                0                0                1  \n",
       "\n",
       "[40846 rows x 30 columns]"
      ]
     },
     "execution_count": 44,
     "metadata": {},
     "output_type": "execute_result"
    }
   ],
   "source": [
    "data"
   ]
  },
  {
   "cell_type": "markdown",
   "id": "1f2a363d-70b5-4ee1-894a-678c1cd3de97",
   "metadata": {},
   "source": [
    "## Section 3: Setting Training, Validation and Testing Sets"
   ]
  },
  {
   "cell_type": "code",
   "execution_count": 45,
   "id": "b177d444-b7b6-4630-9f52-8e2030c8234a",
   "metadata": {},
   "outputs": [],
   "source": [
    "data.rename(columns = {'y_yes' : \"y\"} , inplace = True)"
   ]
  },
  {
   "cell_type": "markdown",
   "id": "276766da-451a-4217-80e5-d03a4983b676",
   "metadata": {},
   "source": [
    "Usually I like to split the sets in the following way:\n",
    "\n",
    "* __Training__ : 80%\n",
    "* __Validation__ : 10%\n",
    "* __Testing__ : 10%"
   ]
  },
  {
   "cell_type": "markdown",
   "id": "3e520ec9-038e-4cc0-8f5a-f7ff9f67ac0d",
   "metadata": {},
   "source": [
    "However in this case I´ll skip the Validation set and only work with Training and Testing, therefore __80%__ and __20%__."
   ]
  },
  {
   "cell_type": "markdown",
   "id": "e7013c02-37ad-4ac4-93aa-e4581791d74f",
   "metadata": {},
   "source": [
    "#### Section 3.1 : Building Training, Validation and Testing Sets"
   ]
  },
  {
   "cell_type": "code",
   "execution_count": 46,
   "id": "96f64f4b-b062-424e-97a9-70332dede6f4",
   "metadata": {},
   "outputs": [],
   "source": [
    "from sklearn.model_selection import train_test_split"
   ]
  },
  {
   "cell_type": "code",
   "execution_count": 47,
   "id": "8a67ce35-debf-410c-bcc4-c804aa16a69d",
   "metadata": {},
   "outputs": [],
   "source": [
    "X = data.drop(\"y\" , axis = 1)\n",
    "y = data[\"y\"]"
   ]
  },
  {
   "cell_type": "code",
   "execution_count": 48,
   "id": "75799f28-4738-4437-856b-b76238288306",
   "metadata": {},
   "outputs": [],
   "source": [
    "X_train, X_test, y_train, y_test = train_test_split(X, y, test_size=0.20, random_state=42)"
   ]
  },
  {
   "cell_type": "code",
   "execution_count": 49,
   "id": "b3bf8d56-fb5f-41c3-a65a-ab8f69853c7c",
   "metadata": {},
   "outputs": [
    {
     "data": {
      "text/plain": [
       "y\n",
       "0    28976\n",
       "1     3700\n",
       "dtype: int64"
      ]
     },
     "execution_count": 49,
     "metadata": {},
     "output_type": "execute_result"
    }
   ],
   "source": [
    "pd.DataFrame(y_train , columns = [\"y\"]).groupby(\"y\").size()"
   ]
  },
  {
   "cell_type": "code",
   "execution_count": 50,
   "id": "d51f18d4-3244-46e5-8a97-8b615b99e8b2",
   "metadata": {},
   "outputs": [
    {
     "data": {
      "text/plain": [
       "y\n",
       "0    7268\n",
       "1     902\n",
       "dtype: int64"
      ]
     },
     "execution_count": 50,
     "metadata": {},
     "output_type": "execute_result"
    }
   ],
   "source": [
    "pd.DataFrame(y_test , columns = [\"y\"]).groupby(\"y\").size()"
   ]
  },
  {
   "cell_type": "markdown",
   "id": "bdc0977c-5b2c-46bb-a641-603901933889",
   "metadata": {},
   "source": [
    "#### Section 3.2 : Scaling The Data"
   ]
  },
  {
   "cell_type": "code",
   "execution_count": 51,
   "id": "6f66aab6-b3c1-43ab-ba89-d61682c394b3",
   "metadata": {},
   "outputs": [],
   "source": [
    "from sklearn.preprocessing import MinMaxScaler"
   ]
  },
  {
   "cell_type": "markdown",
   "id": "7d233a42-4826-43c0-b88b-b62eed357177",
   "metadata": {},
   "source": [
    "We fit the data __ONLY__ on the training set to prevent data leakage"
   ]
  },
  {
   "cell_type": "code",
   "execution_count": 52,
   "id": "bf65e35b-34a5-4f7c-945c-73f2e6ee2d47",
   "metadata": {},
   "outputs": [
    {
     "data": {
      "text/html": [
       "<style>#sk-container-id-1 {color: black;background-color: white;}#sk-container-id-1 pre{padding: 0;}#sk-container-id-1 div.sk-toggleable {background-color: white;}#sk-container-id-1 label.sk-toggleable__label {cursor: pointer;display: block;width: 100%;margin-bottom: 0;padding: 0.3em;box-sizing: border-box;text-align: center;}#sk-container-id-1 label.sk-toggleable__label-arrow:before {content: \"▸\";float: left;margin-right: 0.25em;color: #696969;}#sk-container-id-1 label.sk-toggleable__label-arrow:hover:before {color: black;}#sk-container-id-1 div.sk-estimator:hover label.sk-toggleable__label-arrow:before {color: black;}#sk-container-id-1 div.sk-toggleable__content {max-height: 0;max-width: 0;overflow: hidden;text-align: left;background-color: #f0f8ff;}#sk-container-id-1 div.sk-toggleable__content pre {margin: 0.2em;color: black;border-radius: 0.25em;background-color: #f0f8ff;}#sk-container-id-1 input.sk-toggleable__control:checked~div.sk-toggleable__content {max-height: 200px;max-width: 100%;overflow: auto;}#sk-container-id-1 input.sk-toggleable__control:checked~label.sk-toggleable__label-arrow:before {content: \"▾\";}#sk-container-id-1 div.sk-estimator input.sk-toggleable__control:checked~label.sk-toggleable__label {background-color: #d4ebff;}#sk-container-id-1 div.sk-label input.sk-toggleable__control:checked~label.sk-toggleable__label {background-color: #d4ebff;}#sk-container-id-1 input.sk-hidden--visually {border: 0;clip: rect(1px 1px 1px 1px);clip: rect(1px, 1px, 1px, 1px);height: 1px;margin: -1px;overflow: hidden;padding: 0;position: absolute;width: 1px;}#sk-container-id-1 div.sk-estimator {font-family: monospace;background-color: #f0f8ff;border: 1px dotted black;border-radius: 0.25em;box-sizing: border-box;margin-bottom: 0.5em;}#sk-container-id-1 div.sk-estimator:hover {background-color: #d4ebff;}#sk-container-id-1 div.sk-parallel-item::after {content: \"\";width: 100%;border-bottom: 1px solid gray;flex-grow: 1;}#sk-container-id-1 div.sk-label:hover label.sk-toggleable__label {background-color: #d4ebff;}#sk-container-id-1 div.sk-serial::before {content: \"\";position: absolute;border-left: 1px solid gray;box-sizing: border-box;top: 0;bottom: 0;left: 50%;z-index: 0;}#sk-container-id-1 div.sk-serial {display: flex;flex-direction: column;align-items: center;background-color: white;padding-right: 0.2em;padding-left: 0.2em;position: relative;}#sk-container-id-1 div.sk-item {position: relative;z-index: 1;}#sk-container-id-1 div.sk-parallel {display: flex;align-items: stretch;justify-content: center;background-color: white;position: relative;}#sk-container-id-1 div.sk-item::before, #sk-container-id-1 div.sk-parallel-item::before {content: \"\";position: absolute;border-left: 1px solid gray;box-sizing: border-box;top: 0;bottom: 0;left: 50%;z-index: -1;}#sk-container-id-1 div.sk-parallel-item {display: flex;flex-direction: column;z-index: 1;position: relative;background-color: white;}#sk-container-id-1 div.sk-parallel-item:first-child::after {align-self: flex-end;width: 50%;}#sk-container-id-1 div.sk-parallel-item:last-child::after {align-self: flex-start;width: 50%;}#sk-container-id-1 div.sk-parallel-item:only-child::after {width: 0;}#sk-container-id-1 div.sk-dashed-wrapped {border: 1px dashed gray;margin: 0 0.4em 0.5em 0.4em;box-sizing: border-box;padding-bottom: 0.4em;background-color: white;}#sk-container-id-1 div.sk-label label {font-family: monospace;font-weight: bold;display: inline-block;line-height: 1.2em;}#sk-container-id-1 div.sk-label-container {text-align: center;}#sk-container-id-1 div.sk-container {/* jupyter's `normalize.less` sets `[hidden] { display: none; }` but bootstrap.min.css set `[hidden] { display: none !important; }` so we also need the `!important` here to be able to override the default hidden behavior on the sphinx rendered scikit-learn.org. See: https://github.com/scikit-learn/scikit-learn/issues/21755 */display: inline-block !important;position: relative;}#sk-container-id-1 div.sk-text-repr-fallback {display: none;}</style><div id=\"sk-container-id-1\" class=\"sk-top-container\"><div class=\"sk-text-repr-fallback\"><pre>MinMaxScaler()</pre><b>In a Jupyter environment, please rerun this cell to show the HTML representation or trust the notebook. <br />On GitHub, the HTML representation is unable to render, please try loading this page with nbviewer.org.</b></div><div class=\"sk-container\" hidden><div class=\"sk-item\"><div class=\"sk-estimator sk-toggleable\"><input class=\"sk-toggleable__control sk-hidden--visually\" id=\"sk-estimator-id-1\" type=\"checkbox\" checked><label for=\"sk-estimator-id-1\" class=\"sk-toggleable__label sk-toggleable__label-arrow\">MinMaxScaler</label><div class=\"sk-toggleable__content\"><pre>MinMaxScaler()</pre></div></div></div></div></div>"
      ],
      "text/plain": [
       "MinMaxScaler()"
      ]
     },
     "execution_count": 52,
     "metadata": {},
     "output_type": "execute_result"
    }
   ],
   "source": [
    "scaler = MinMaxScaler()\n",
    "scaler.fit(X_train)"
   ]
  },
  {
   "cell_type": "code",
   "execution_count": 53,
   "id": "abe8402d-a73c-4e33-8c46-7840d929ae5c",
   "metadata": {},
   "outputs": [],
   "source": [
    "X_train_scaled = scaler.transform(X_train)\n",
    "X_test_scaled = scaler.transform(X_test)"
   ]
  },
  {
   "cell_type": "code",
   "execution_count": 54,
   "id": "7e119d42-0452-49f0-9930-06a4de2d1cef",
   "metadata": {},
   "outputs": [
    {
     "data": {
      "text/html": [
       "<div>\n",
       "<style scoped>\n",
       "    .dataframe tbody tr th:only-of-type {\n",
       "        vertical-align: middle;\n",
       "    }\n",
       "\n",
       "    .dataframe tbody tr th {\n",
       "        vertical-align: top;\n",
       "    }\n",
       "\n",
       "    .dataframe thead th {\n",
       "        text-align: right;\n",
       "    }\n",
       "</style>\n",
       "<table border=\"1\" class=\"dataframe\">\n",
       "  <thead>\n",
       "    <tr style=\"text-align: right;\">\n",
       "      <th></th>\n",
       "      <th>age</th>\n",
       "      <th>emp.var.rate</th>\n",
       "      <th>cons.price.idx</th>\n",
       "      <th>cons.conf.idx</th>\n",
       "      <th>euribor3m</th>\n",
       "      <th>nr.employed</th>\n",
       "      <th>BinnedMonth</th>\n",
       "      <th>ratio</th>\n",
       "      <th>job_blue-collar</th>\n",
       "      <th>job_entrepreneur</th>\n",
       "      <th>job_housekeeper</th>\n",
       "      <th>job_management</th>\n",
       "      <th>job_retired</th>\n",
       "      <th>job_self-employed</th>\n",
       "      <th>job_services</th>\n",
       "      <th>job_student</th>\n",
       "      <th>job_technician</th>\n",
       "      <th>job_unemployed</th>\n",
       "      <th>contact_telephone</th>\n",
       "      <th>NewEducation_basic.6y</th>\n",
       "      <th>NewEducation_basic.9y</th>\n",
       "      <th>NewEducation_high.school</th>\n",
       "      <th>NewEducation_illiterate</th>\n",
       "      <th>NewEducation_professional.course</th>\n",
       "      <th>NewEducation_university.degree</th>\n",
       "      <th>day_of_week_mon</th>\n",
       "      <th>day_of_week_thu</th>\n",
       "      <th>day_of_week_tue</th>\n",
       "      <th>day_of_week_wed</th>\n",
       "    </tr>\n",
       "  </thead>\n",
       "  <tbody>\n",
       "    <tr>\n",
       "      <th>34126</th>\n",
       "      <td>29</td>\n",
       "      <td>-0.1</td>\n",
       "      <td>93.200</td>\n",
       "      <td>-42.0</td>\n",
       "      <td>4.153</td>\n",
       "      <td>5195.8</td>\n",
       "      <td>0</td>\n",
       "      <td>10.15</td>\n",
       "      <td>0</td>\n",
       "      <td>0</td>\n",
       "      <td>0</td>\n",
       "      <td>0</td>\n",
       "      <td>0</td>\n",
       "      <td>0</td>\n",
       "      <td>0</td>\n",
       "      <td>0</td>\n",
       "      <td>0</td>\n",
       "      <td>0</td>\n",
       "      <td>0</td>\n",
       "      <td>0</td>\n",
       "      <td>0</td>\n",
       "      <td>1</td>\n",
       "      <td>0</td>\n",
       "      <td>0</td>\n",
       "      <td>0</td>\n",
       "      <td>0</td>\n",
       "      <td>0</td>\n",
       "      <td>1</td>\n",
       "      <td>0</td>\n",
       "    </tr>\n",
       "    <tr>\n",
       "      <th>25346</th>\n",
       "      <td>37</td>\n",
       "      <td>1.4</td>\n",
       "      <td>93.918</td>\n",
       "      <td>-42.7</td>\n",
       "      <td>4.968</td>\n",
       "      <td>5228.1</td>\n",
       "      <td>0</td>\n",
       "      <td>9.04</td>\n",
       "      <td>1</td>\n",
       "      <td>0</td>\n",
       "      <td>0</td>\n",
       "      <td>0</td>\n",
       "      <td>0</td>\n",
       "      <td>0</td>\n",
       "      <td>0</td>\n",
       "      <td>0</td>\n",
       "      <td>0</td>\n",
       "      <td>0</td>\n",
       "      <td>0</td>\n",
       "      <td>0</td>\n",
       "      <td>0</td>\n",
       "      <td>0</td>\n",
       "      <td>0</td>\n",
       "      <td>0</td>\n",
       "      <td>0</td>\n",
       "      <td>0</td>\n",
       "      <td>1</td>\n",
       "      <td>0</td>\n",
       "      <td>0</td>\n",
       "    </tr>\n",
       "    <tr>\n",
       "      <th>4844</th>\n",
       "      <td>49</td>\n",
       "      <td>1.1</td>\n",
       "      <td>93.994</td>\n",
       "      <td>-36.4</td>\n",
       "      <td>4.858</td>\n",
       "      <td>5191.0</td>\n",
       "      <td>0</td>\n",
       "      <td>6.44</td>\n",
       "      <td>0</td>\n",
       "      <td>0</td>\n",
       "      <td>0</td>\n",
       "      <td>0</td>\n",
       "      <td>0</td>\n",
       "      <td>0</td>\n",
       "      <td>0</td>\n",
       "      <td>0</td>\n",
       "      <td>1</td>\n",
       "      <td>0</td>\n",
       "      <td>1</td>\n",
       "      <td>0</td>\n",
       "      <td>0</td>\n",
       "      <td>0</td>\n",
       "      <td>0</td>\n",
       "      <td>0</td>\n",
       "      <td>1</td>\n",
       "      <td>0</td>\n",
       "      <td>0</td>\n",
       "      <td>0</td>\n",
       "      <td>1</td>\n",
       "    </tr>\n",
       "    <tr>\n",
       "      <th>14183</th>\n",
       "      <td>29</td>\n",
       "      <td>1.4</td>\n",
       "      <td>94.465</td>\n",
       "      <td>-41.8</td>\n",
       "      <td>4.864</td>\n",
       "      <td>5228.1</td>\n",
       "      <td>0</td>\n",
       "      <td>10.51</td>\n",
       "      <td>0</td>\n",
       "      <td>1</td>\n",
       "      <td>0</td>\n",
       "      <td>0</td>\n",
       "      <td>0</td>\n",
       "      <td>0</td>\n",
       "      <td>0</td>\n",
       "      <td>0</td>\n",
       "      <td>0</td>\n",
       "      <td>0</td>\n",
       "      <td>1</td>\n",
       "      <td>0</td>\n",
       "      <td>0</td>\n",
       "      <td>1</td>\n",
       "      <td>0</td>\n",
       "      <td>0</td>\n",
       "      <td>0</td>\n",
       "      <td>0</td>\n",
       "      <td>0</td>\n",
       "      <td>1</td>\n",
       "      <td>0</td>\n",
       "    </tr>\n",
       "    <tr>\n",
       "      <th>29577</th>\n",
       "      <td>32</td>\n",
       "      <td>1.4</td>\n",
       "      <td>93.444</td>\n",
       "      <td>-36.1</td>\n",
       "      <td>4.964</td>\n",
       "      <td>5228.1</td>\n",
       "      <td>0</td>\n",
       "      <td>10.61</td>\n",
       "      <td>0</td>\n",
       "      <td>0</td>\n",
       "      <td>0</td>\n",
       "      <td>0</td>\n",
       "      <td>0</td>\n",
       "      <td>0</td>\n",
       "      <td>0</td>\n",
       "      <td>0</td>\n",
       "      <td>1</td>\n",
       "      <td>0</td>\n",
       "      <td>0</td>\n",
       "      <td>0</td>\n",
       "      <td>0</td>\n",
       "      <td>1</td>\n",
       "      <td>0</td>\n",
       "      <td>0</td>\n",
       "      <td>0</td>\n",
       "      <td>0</td>\n",
       "      <td>0</td>\n",
       "      <td>0</td>\n",
       "      <td>0</td>\n",
       "    </tr>\n",
       "    <tr>\n",
       "      <th>...</th>\n",
       "      <td>...</td>\n",
       "      <td>...</td>\n",
       "      <td>...</td>\n",
       "      <td>...</td>\n",
       "      <td>...</td>\n",
       "      <td>...</td>\n",
       "      <td>...</td>\n",
       "      <td>...</td>\n",
       "      <td>...</td>\n",
       "      <td>...</td>\n",
       "      <td>...</td>\n",
       "      <td>...</td>\n",
       "      <td>...</td>\n",
       "      <td>...</td>\n",
       "      <td>...</td>\n",
       "      <td>...</td>\n",
       "      <td>...</td>\n",
       "      <td>...</td>\n",
       "      <td>...</td>\n",
       "      <td>...</td>\n",
       "      <td>...</td>\n",
       "      <td>...</td>\n",
       "      <td>...</td>\n",
       "      <td>...</td>\n",
       "      <td>...</td>\n",
       "      <td>...</td>\n",
       "      <td>...</td>\n",
       "      <td>...</td>\n",
       "      <td>...</td>\n",
       "    </tr>\n",
       "    <tr>\n",
       "      <th>6265</th>\n",
       "      <td>45</td>\n",
       "      <td>1.1</td>\n",
       "      <td>93.994</td>\n",
       "      <td>-36.4</td>\n",
       "      <td>4.857</td>\n",
       "      <td>5191.0</td>\n",
       "      <td>0</td>\n",
       "      <td>6.44</td>\n",
       "      <td>0</td>\n",
       "      <td>0</td>\n",
       "      <td>0</td>\n",
       "      <td>0</td>\n",
       "      <td>0</td>\n",
       "      <td>0</td>\n",
       "      <td>0</td>\n",
       "      <td>0</td>\n",
       "      <td>1</td>\n",
       "      <td>0</td>\n",
       "      <td>1</td>\n",
       "      <td>0</td>\n",
       "      <td>0</td>\n",
       "      <td>0</td>\n",
       "      <td>0</td>\n",
       "      <td>1</td>\n",
       "      <td>0</td>\n",
       "      <td>0</td>\n",
       "      <td>0</td>\n",
       "      <td>1</td>\n",
       "      <td>0</td>\n",
       "    </tr>\n",
       "    <tr>\n",
       "      <th>11284</th>\n",
       "      <td>36</td>\n",
       "      <td>-1.8</td>\n",
       "      <td>92.893</td>\n",
       "      <td>-46.2</td>\n",
       "      <td>1.281</td>\n",
       "      <td>5099.1</td>\n",
       "      <td>0</td>\n",
       "      <td>6.44</td>\n",
       "      <td>1</td>\n",
       "      <td>0</td>\n",
       "      <td>0</td>\n",
       "      <td>0</td>\n",
       "      <td>0</td>\n",
       "      <td>0</td>\n",
       "      <td>0</td>\n",
       "      <td>0</td>\n",
       "      <td>0</td>\n",
       "      <td>0</td>\n",
       "      <td>0</td>\n",
       "      <td>0</td>\n",
       "      <td>1</td>\n",
       "      <td>0</td>\n",
       "      <td>0</td>\n",
       "      <td>0</td>\n",
       "      <td>0</td>\n",
       "      <td>0</td>\n",
       "      <td>0</td>\n",
       "      <td>0</td>\n",
       "      <td>1</td>\n",
       "    </tr>\n",
       "    <tr>\n",
       "      <th>38158</th>\n",
       "      <td>35</td>\n",
       "      <td>-1.8</td>\n",
       "      <td>93.075</td>\n",
       "      <td>-47.1</td>\n",
       "      <td>1.423</td>\n",
       "      <td>5099.1</td>\n",
       "      <td>0</td>\n",
       "      <td>20.49</td>\n",
       "      <td>1</td>\n",
       "      <td>0</td>\n",
       "      <td>0</td>\n",
       "      <td>0</td>\n",
       "      <td>0</td>\n",
       "      <td>0</td>\n",
       "      <td>0</td>\n",
       "      <td>0</td>\n",
       "      <td>0</td>\n",
       "      <td>0</td>\n",
       "      <td>0</td>\n",
       "      <td>0</td>\n",
       "      <td>1</td>\n",
       "      <td>0</td>\n",
       "      <td>0</td>\n",
       "      <td>0</td>\n",
       "      <td>0</td>\n",
       "      <td>0</td>\n",
       "      <td>0</td>\n",
       "      <td>1</td>\n",
       "      <td>0</td>\n",
       "    </tr>\n",
       "    <tr>\n",
       "      <th>860</th>\n",
       "      <td>44</td>\n",
       "      <td>1.1</td>\n",
       "      <td>93.994</td>\n",
       "      <td>-36.4</td>\n",
       "      <td>4.856</td>\n",
       "      <td>5191.0</td>\n",
       "      <td>0</td>\n",
       "      <td>6.44</td>\n",
       "      <td>1</td>\n",
       "      <td>0</td>\n",
       "      <td>0</td>\n",
       "      <td>0</td>\n",
       "      <td>0</td>\n",
       "      <td>0</td>\n",
       "      <td>0</td>\n",
       "      <td>0</td>\n",
       "      <td>0</td>\n",
       "      <td>0</td>\n",
       "      <td>1</td>\n",
       "      <td>0</td>\n",
       "      <td>0</td>\n",
       "      <td>0</td>\n",
       "      <td>0</td>\n",
       "      <td>0</td>\n",
       "      <td>0</td>\n",
       "      <td>0</td>\n",
       "      <td>0</td>\n",
       "      <td>0</td>\n",
       "      <td>1</td>\n",
       "    </tr>\n",
       "    <tr>\n",
       "      <th>15795</th>\n",
       "      <td>36</td>\n",
       "      <td>1.4</td>\n",
       "      <td>94.465</td>\n",
       "      <td>-41.8</td>\n",
       "      <td>4.959</td>\n",
       "      <td>5228.1</td>\n",
       "      <td>0</td>\n",
       "      <td>10.51</td>\n",
       "      <td>0</td>\n",
       "      <td>0</td>\n",
       "      <td>0</td>\n",
       "      <td>0</td>\n",
       "      <td>0</td>\n",
       "      <td>0</td>\n",
       "      <td>0</td>\n",
       "      <td>0</td>\n",
       "      <td>0</td>\n",
       "      <td>0</td>\n",
       "      <td>1</td>\n",
       "      <td>0</td>\n",
       "      <td>0</td>\n",
       "      <td>0</td>\n",
       "      <td>0</td>\n",
       "      <td>1</td>\n",
       "      <td>0</td>\n",
       "      <td>0</td>\n",
       "      <td>0</td>\n",
       "      <td>0</td>\n",
       "      <td>1</td>\n",
       "    </tr>\n",
       "  </tbody>\n",
       "</table>\n",
       "<p>32676 rows × 29 columns</p>\n",
       "</div>"
      ],
      "text/plain": [
       "       age  emp.var.rate  cons.price.idx  cons.conf.idx  euribor3m  \\\n",
       "34126   29          -0.1          93.200          -42.0      4.153   \n",
       "25346   37           1.4          93.918          -42.7      4.968   \n",
       "4844    49           1.1          93.994          -36.4      4.858   \n",
       "14183   29           1.4          94.465          -41.8      4.864   \n",
       "29577   32           1.4          93.444          -36.1      4.964   \n",
       "...    ...           ...             ...            ...        ...   \n",
       "6265    45           1.1          93.994          -36.4      4.857   \n",
       "11284   36          -1.8          92.893          -46.2      1.281   \n",
       "38158   35          -1.8          93.075          -47.1      1.423   \n",
       "860     44           1.1          93.994          -36.4      4.856   \n",
       "15795   36           1.4          94.465          -41.8      4.959   \n",
       "\n",
       "       nr.employed  BinnedMonth  ratio  job_blue-collar  job_entrepreneur  \\\n",
       "34126       5195.8            0  10.15                0                 0   \n",
       "25346       5228.1            0   9.04                1                 0   \n",
       "4844        5191.0            0   6.44                0                 0   \n",
       "14183       5228.1            0  10.51                0                 1   \n",
       "29577       5228.1            0  10.61                0                 0   \n",
       "...            ...          ...    ...              ...               ...   \n",
       "6265        5191.0            0   6.44                0                 0   \n",
       "11284       5099.1            0   6.44                1                 0   \n",
       "38158       5099.1            0  20.49                1                 0   \n",
       "860         5191.0            0   6.44                1                 0   \n",
       "15795       5228.1            0  10.51                0                 0   \n",
       "\n",
       "       job_housekeeper  job_management  job_retired  job_self-employed  \\\n",
       "34126                0               0            0                  0   \n",
       "25346                0               0            0                  0   \n",
       "4844                 0               0            0                  0   \n",
       "14183                0               0            0                  0   \n",
       "29577                0               0            0                  0   \n",
       "...                ...             ...          ...                ...   \n",
       "6265                 0               0            0                  0   \n",
       "11284                0               0            0                  0   \n",
       "38158                0               0            0                  0   \n",
       "860                  0               0            0                  0   \n",
       "15795                0               0            0                  0   \n",
       "\n",
       "       job_services  job_student  job_technician  job_unemployed  \\\n",
       "34126             0            0               0               0   \n",
       "25346             0            0               0               0   \n",
       "4844              0            0               1               0   \n",
       "14183             0            0               0               0   \n",
       "29577             0            0               1               0   \n",
       "...             ...          ...             ...             ...   \n",
       "6265              0            0               1               0   \n",
       "11284             0            0               0               0   \n",
       "38158             0            0               0               0   \n",
       "860               0            0               0               0   \n",
       "15795             0            0               0               0   \n",
       "\n",
       "       contact_telephone  NewEducation_basic.6y  NewEducation_basic.9y  \\\n",
       "34126                  0                      0                      0   \n",
       "25346                  0                      0                      0   \n",
       "4844                   1                      0                      0   \n",
       "14183                  1                      0                      0   \n",
       "29577                  0                      0                      0   \n",
       "...                  ...                    ...                    ...   \n",
       "6265                   1                      0                      0   \n",
       "11284                  0                      0                      1   \n",
       "38158                  0                      0                      1   \n",
       "860                    1                      0                      0   \n",
       "15795                  1                      0                      0   \n",
       "\n",
       "       NewEducation_high.school  NewEducation_illiterate  \\\n",
       "34126                         1                        0   \n",
       "25346                         0                        0   \n",
       "4844                          0                        0   \n",
       "14183                         1                        0   \n",
       "29577                         1                        0   \n",
       "...                         ...                      ...   \n",
       "6265                          0                        0   \n",
       "11284                         0                        0   \n",
       "38158                         0                        0   \n",
       "860                           0                        0   \n",
       "15795                         0                        0   \n",
       "\n",
       "       NewEducation_professional.course  NewEducation_university.degree  \\\n",
       "34126                                 0                               0   \n",
       "25346                                 0                               0   \n",
       "4844                                  0                               1   \n",
       "14183                                 0                               0   \n",
       "29577                                 0                               0   \n",
       "...                                 ...                             ...   \n",
       "6265                                  1                               0   \n",
       "11284                                 0                               0   \n",
       "38158                                 0                               0   \n",
       "860                                   0                               0   \n",
       "15795                                 1                               0   \n",
       "\n",
       "       day_of_week_mon  day_of_week_thu  day_of_week_tue  day_of_week_wed  \n",
       "34126                0                0                1                0  \n",
       "25346                0                1                0                0  \n",
       "4844                 0                0                0                1  \n",
       "14183                0                0                1                0  \n",
       "29577                0                0                0                0  \n",
       "...                ...              ...              ...              ...  \n",
       "6265                 0                0                1                0  \n",
       "11284                0                0                0                1  \n",
       "38158                0                0                1                0  \n",
       "860                  0                0                0                1  \n",
       "15795                0                0                0                1  \n",
       "\n",
       "[32676 rows x 29 columns]"
      ]
     },
     "execution_count": 54,
     "metadata": {},
     "output_type": "execute_result"
    }
   ],
   "source": [
    "X_train"
   ]
  },
  {
   "cell_type": "code",
   "execution_count": 55,
   "id": "2d182044-4f21-4e85-813b-87765f73f035",
   "metadata": {},
   "outputs": [
    {
     "data": {
      "text/html": [
       "<div>\n",
       "<style scoped>\n",
       "    .dataframe tbody tr th:only-of-type {\n",
       "        vertical-align: middle;\n",
       "    }\n",
       "\n",
       "    .dataframe tbody tr th {\n",
       "        vertical-align: top;\n",
       "    }\n",
       "\n",
       "    .dataframe thead th {\n",
       "        text-align: right;\n",
       "    }\n",
       "</style>\n",
       "<table border=\"1\" class=\"dataframe\">\n",
       "  <thead>\n",
       "    <tr style=\"text-align: right;\">\n",
       "      <th></th>\n",
       "      <th>0</th>\n",
       "      <th>1</th>\n",
       "      <th>2</th>\n",
       "      <th>3</th>\n",
       "      <th>4</th>\n",
       "      <th>5</th>\n",
       "      <th>6</th>\n",
       "      <th>7</th>\n",
       "      <th>8</th>\n",
       "      <th>9</th>\n",
       "      <th>10</th>\n",
       "      <th>11</th>\n",
       "      <th>12</th>\n",
       "      <th>13</th>\n",
       "      <th>14</th>\n",
       "      <th>15</th>\n",
       "      <th>16</th>\n",
       "      <th>17</th>\n",
       "      <th>18</th>\n",
       "      <th>19</th>\n",
       "      <th>20</th>\n",
       "      <th>21</th>\n",
       "      <th>22</th>\n",
       "      <th>23</th>\n",
       "      <th>24</th>\n",
       "      <th>25</th>\n",
       "      <th>26</th>\n",
       "      <th>27</th>\n",
       "      <th>28</th>\n",
       "    </tr>\n",
       "  </thead>\n",
       "  <tbody>\n",
       "    <tr>\n",
       "      <th>0</th>\n",
       "      <td>0.148148</td>\n",
       "      <td>0.687500</td>\n",
       "      <td>0.389322</td>\n",
       "      <td>0.368201</td>\n",
       "      <td>0.797778</td>\n",
       "      <td>0.877883</td>\n",
       "      <td>0.0</td>\n",
       "      <td>0.084108</td>\n",
       "      <td>0.0</td>\n",
       "      <td>0.0</td>\n",
       "      <td>0.0</td>\n",
       "      <td>0.0</td>\n",
       "      <td>0.0</td>\n",
       "      <td>0.0</td>\n",
       "      <td>0.0</td>\n",
       "      <td>0.0</td>\n",
       "      <td>0.0</td>\n",
       "      <td>0.0</td>\n",
       "      <td>0.0</td>\n",
       "      <td>0.0</td>\n",
       "      <td>0.0</td>\n",
       "      <td>1.0</td>\n",
       "      <td>0.0</td>\n",
       "      <td>0.0</td>\n",
       "      <td>0.0</td>\n",
       "      <td>0.0</td>\n",
       "      <td>0.0</td>\n",
       "      <td>1.0</td>\n",
       "      <td>0.0</td>\n",
       "    </tr>\n",
       "    <tr>\n",
       "      <th>1</th>\n",
       "      <td>0.246914</td>\n",
       "      <td>1.000000</td>\n",
       "      <td>0.669135</td>\n",
       "      <td>0.338912</td>\n",
       "      <td>0.982544</td>\n",
       "      <td>1.000000</td>\n",
       "      <td>0.0</td>\n",
       "      <td>0.058944</td>\n",
       "      <td>1.0</td>\n",
       "      <td>0.0</td>\n",
       "      <td>0.0</td>\n",
       "      <td>0.0</td>\n",
       "      <td>0.0</td>\n",
       "      <td>0.0</td>\n",
       "      <td>0.0</td>\n",
       "      <td>0.0</td>\n",
       "      <td>0.0</td>\n",
       "      <td>0.0</td>\n",
       "      <td>0.0</td>\n",
       "      <td>0.0</td>\n",
       "      <td>0.0</td>\n",
       "      <td>0.0</td>\n",
       "      <td>0.0</td>\n",
       "      <td>0.0</td>\n",
       "      <td>0.0</td>\n",
       "      <td>0.0</td>\n",
       "      <td>1.0</td>\n",
       "      <td>0.0</td>\n",
       "      <td>0.0</td>\n",
       "    </tr>\n",
       "    <tr>\n",
       "      <th>2</th>\n",
       "      <td>0.395062</td>\n",
       "      <td>0.937500</td>\n",
       "      <td>0.698753</td>\n",
       "      <td>0.602510</td>\n",
       "      <td>0.957606</td>\n",
       "      <td>0.859735</td>\n",
       "      <td>0.0</td>\n",
       "      <td>0.000000</td>\n",
       "      <td>0.0</td>\n",
       "      <td>0.0</td>\n",
       "      <td>0.0</td>\n",
       "      <td>0.0</td>\n",
       "      <td>0.0</td>\n",
       "      <td>0.0</td>\n",
       "      <td>0.0</td>\n",
       "      <td>0.0</td>\n",
       "      <td>1.0</td>\n",
       "      <td>0.0</td>\n",
       "      <td>1.0</td>\n",
       "      <td>0.0</td>\n",
       "      <td>0.0</td>\n",
       "      <td>0.0</td>\n",
       "      <td>0.0</td>\n",
       "      <td>0.0</td>\n",
       "      <td>1.0</td>\n",
       "      <td>0.0</td>\n",
       "      <td>0.0</td>\n",
       "      <td>0.0</td>\n",
       "      <td>1.0</td>\n",
       "    </tr>\n",
       "    <tr>\n",
       "      <th>3</th>\n",
       "      <td>0.148148</td>\n",
       "      <td>1.000000</td>\n",
       "      <td>0.882307</td>\n",
       "      <td>0.376569</td>\n",
       "      <td>0.958966</td>\n",
       "      <td>1.000000</td>\n",
       "      <td>0.0</td>\n",
       "      <td>0.092269</td>\n",
       "      <td>0.0</td>\n",
       "      <td>1.0</td>\n",
       "      <td>0.0</td>\n",
       "      <td>0.0</td>\n",
       "      <td>0.0</td>\n",
       "      <td>0.0</td>\n",
       "      <td>0.0</td>\n",
       "      <td>0.0</td>\n",
       "      <td>0.0</td>\n",
       "      <td>0.0</td>\n",
       "      <td>1.0</td>\n",
       "      <td>0.0</td>\n",
       "      <td>0.0</td>\n",
       "      <td>1.0</td>\n",
       "      <td>0.0</td>\n",
       "      <td>0.0</td>\n",
       "      <td>0.0</td>\n",
       "      <td>0.0</td>\n",
       "      <td>0.0</td>\n",
       "      <td>1.0</td>\n",
       "      <td>0.0</td>\n",
       "    </tr>\n",
       "    <tr>\n",
       "      <th>4</th>\n",
       "      <td>0.185185</td>\n",
       "      <td>1.000000</td>\n",
       "      <td>0.484412</td>\n",
       "      <td>0.615063</td>\n",
       "      <td>0.981637</td>\n",
       "      <td>1.000000</td>\n",
       "      <td>0.0</td>\n",
       "      <td>0.094536</td>\n",
       "      <td>0.0</td>\n",
       "      <td>0.0</td>\n",
       "      <td>0.0</td>\n",
       "      <td>0.0</td>\n",
       "      <td>0.0</td>\n",
       "      <td>0.0</td>\n",
       "      <td>0.0</td>\n",
       "      <td>0.0</td>\n",
       "      <td>1.0</td>\n",
       "      <td>0.0</td>\n",
       "      <td>0.0</td>\n",
       "      <td>0.0</td>\n",
       "      <td>0.0</td>\n",
       "      <td>1.0</td>\n",
       "      <td>0.0</td>\n",
       "      <td>0.0</td>\n",
       "      <td>0.0</td>\n",
       "      <td>0.0</td>\n",
       "      <td>0.0</td>\n",
       "      <td>0.0</td>\n",
       "      <td>0.0</td>\n",
       "    </tr>\n",
       "    <tr>\n",
       "      <th>...</th>\n",
       "      <td>...</td>\n",
       "      <td>...</td>\n",
       "      <td>...</td>\n",
       "      <td>...</td>\n",
       "      <td>...</td>\n",
       "      <td>...</td>\n",
       "      <td>...</td>\n",
       "      <td>...</td>\n",
       "      <td>...</td>\n",
       "      <td>...</td>\n",
       "      <td>...</td>\n",
       "      <td>...</td>\n",
       "      <td>...</td>\n",
       "      <td>...</td>\n",
       "      <td>...</td>\n",
       "      <td>...</td>\n",
       "      <td>...</td>\n",
       "      <td>...</td>\n",
       "      <td>...</td>\n",
       "      <td>...</td>\n",
       "      <td>...</td>\n",
       "      <td>...</td>\n",
       "      <td>...</td>\n",
       "      <td>...</td>\n",
       "      <td>...</td>\n",
       "      <td>...</td>\n",
       "      <td>...</td>\n",
       "      <td>...</td>\n",
       "      <td>...</td>\n",
       "    </tr>\n",
       "    <tr>\n",
       "      <th>32671</th>\n",
       "      <td>0.345679</td>\n",
       "      <td>0.937500</td>\n",
       "      <td>0.698753</td>\n",
       "      <td>0.602510</td>\n",
       "      <td>0.957379</td>\n",
       "      <td>0.859735</td>\n",
       "      <td>0.0</td>\n",
       "      <td>0.000000</td>\n",
       "      <td>0.0</td>\n",
       "      <td>0.0</td>\n",
       "      <td>0.0</td>\n",
       "      <td>0.0</td>\n",
       "      <td>0.0</td>\n",
       "      <td>0.0</td>\n",
       "      <td>0.0</td>\n",
       "      <td>0.0</td>\n",
       "      <td>1.0</td>\n",
       "      <td>0.0</td>\n",
       "      <td>1.0</td>\n",
       "      <td>0.0</td>\n",
       "      <td>0.0</td>\n",
       "      <td>0.0</td>\n",
       "      <td>0.0</td>\n",
       "      <td>1.0</td>\n",
       "      <td>0.0</td>\n",
       "      <td>0.0</td>\n",
       "      <td>0.0</td>\n",
       "      <td>1.0</td>\n",
       "      <td>0.0</td>\n",
       "    </tr>\n",
       "    <tr>\n",
       "      <th>32672</th>\n",
       "      <td>0.234568</td>\n",
       "      <td>0.333333</td>\n",
       "      <td>0.269680</td>\n",
       "      <td>0.192469</td>\n",
       "      <td>0.146679</td>\n",
       "      <td>0.512287</td>\n",
       "      <td>0.0</td>\n",
       "      <td>0.000000</td>\n",
       "      <td>1.0</td>\n",
       "      <td>0.0</td>\n",
       "      <td>0.0</td>\n",
       "      <td>0.0</td>\n",
       "      <td>0.0</td>\n",
       "      <td>0.0</td>\n",
       "      <td>0.0</td>\n",
       "      <td>0.0</td>\n",
       "      <td>0.0</td>\n",
       "      <td>0.0</td>\n",
       "      <td>0.0</td>\n",
       "      <td>0.0</td>\n",
       "      <td>1.0</td>\n",
       "      <td>0.0</td>\n",
       "      <td>0.0</td>\n",
       "      <td>0.0</td>\n",
       "      <td>0.0</td>\n",
       "      <td>0.0</td>\n",
       "      <td>0.0</td>\n",
       "      <td>0.0</td>\n",
       "      <td>1.0</td>\n",
       "    </tr>\n",
       "    <tr>\n",
       "      <th>32673</th>\n",
       "      <td>0.222222</td>\n",
       "      <td>0.333333</td>\n",
       "      <td>0.340608</td>\n",
       "      <td>0.154812</td>\n",
       "      <td>0.178871</td>\n",
       "      <td>0.512287</td>\n",
       "      <td>0.0</td>\n",
       "      <td>0.318522</td>\n",
       "      <td>1.0</td>\n",
       "      <td>0.0</td>\n",
       "      <td>0.0</td>\n",
       "      <td>0.0</td>\n",
       "      <td>0.0</td>\n",
       "      <td>0.0</td>\n",
       "      <td>0.0</td>\n",
       "      <td>0.0</td>\n",
       "      <td>0.0</td>\n",
       "      <td>0.0</td>\n",
       "      <td>0.0</td>\n",
       "      <td>0.0</td>\n",
       "      <td>1.0</td>\n",
       "      <td>0.0</td>\n",
       "      <td>0.0</td>\n",
       "      <td>0.0</td>\n",
       "      <td>0.0</td>\n",
       "      <td>0.0</td>\n",
       "      <td>0.0</td>\n",
       "      <td>1.0</td>\n",
       "      <td>0.0</td>\n",
       "    </tr>\n",
       "    <tr>\n",
       "      <th>32674</th>\n",
       "      <td>0.333333</td>\n",
       "      <td>0.937500</td>\n",
       "      <td>0.698753</td>\n",
       "      <td>0.602510</td>\n",
       "      <td>0.957153</td>\n",
       "      <td>0.859735</td>\n",
       "      <td>0.0</td>\n",
       "      <td>0.000000</td>\n",
       "      <td>1.0</td>\n",
       "      <td>0.0</td>\n",
       "      <td>0.0</td>\n",
       "      <td>0.0</td>\n",
       "      <td>0.0</td>\n",
       "      <td>0.0</td>\n",
       "      <td>0.0</td>\n",
       "      <td>0.0</td>\n",
       "      <td>0.0</td>\n",
       "      <td>0.0</td>\n",
       "      <td>1.0</td>\n",
       "      <td>0.0</td>\n",
       "      <td>0.0</td>\n",
       "      <td>0.0</td>\n",
       "      <td>0.0</td>\n",
       "      <td>0.0</td>\n",
       "      <td>0.0</td>\n",
       "      <td>0.0</td>\n",
       "      <td>0.0</td>\n",
       "      <td>0.0</td>\n",
       "      <td>1.0</td>\n",
       "    </tr>\n",
       "    <tr>\n",
       "      <th>32675</th>\n",
       "      <td>0.234568</td>\n",
       "      <td>1.000000</td>\n",
       "      <td>0.882307</td>\n",
       "      <td>0.376569</td>\n",
       "      <td>0.980503</td>\n",
       "      <td>1.000000</td>\n",
       "      <td>0.0</td>\n",
       "      <td>0.092269</td>\n",
       "      <td>0.0</td>\n",
       "      <td>0.0</td>\n",
       "      <td>0.0</td>\n",
       "      <td>0.0</td>\n",
       "      <td>0.0</td>\n",
       "      <td>0.0</td>\n",
       "      <td>0.0</td>\n",
       "      <td>0.0</td>\n",
       "      <td>0.0</td>\n",
       "      <td>0.0</td>\n",
       "      <td>1.0</td>\n",
       "      <td>0.0</td>\n",
       "      <td>0.0</td>\n",
       "      <td>0.0</td>\n",
       "      <td>0.0</td>\n",
       "      <td>1.0</td>\n",
       "      <td>0.0</td>\n",
       "      <td>0.0</td>\n",
       "      <td>0.0</td>\n",
       "      <td>0.0</td>\n",
       "      <td>1.0</td>\n",
       "    </tr>\n",
       "  </tbody>\n",
       "</table>\n",
       "<p>32676 rows × 29 columns</p>\n",
       "</div>"
      ],
      "text/plain": [
       "             0         1         2         3         4         5    6   \\\n",
       "0      0.148148  0.687500  0.389322  0.368201  0.797778  0.877883  0.0   \n",
       "1      0.246914  1.000000  0.669135  0.338912  0.982544  1.000000  0.0   \n",
       "2      0.395062  0.937500  0.698753  0.602510  0.957606  0.859735  0.0   \n",
       "3      0.148148  1.000000  0.882307  0.376569  0.958966  1.000000  0.0   \n",
       "4      0.185185  1.000000  0.484412  0.615063  0.981637  1.000000  0.0   \n",
       "...         ...       ...       ...       ...       ...       ...  ...   \n",
       "32671  0.345679  0.937500  0.698753  0.602510  0.957379  0.859735  0.0   \n",
       "32672  0.234568  0.333333  0.269680  0.192469  0.146679  0.512287  0.0   \n",
       "32673  0.222222  0.333333  0.340608  0.154812  0.178871  0.512287  0.0   \n",
       "32674  0.333333  0.937500  0.698753  0.602510  0.957153  0.859735  0.0   \n",
       "32675  0.234568  1.000000  0.882307  0.376569  0.980503  1.000000  0.0   \n",
       "\n",
       "             7    8    9    10   11   12   13   14   15   16   17   18   19  \\\n",
       "0      0.084108  0.0  0.0  0.0  0.0  0.0  0.0  0.0  0.0  0.0  0.0  0.0  0.0   \n",
       "1      0.058944  1.0  0.0  0.0  0.0  0.0  0.0  0.0  0.0  0.0  0.0  0.0  0.0   \n",
       "2      0.000000  0.0  0.0  0.0  0.0  0.0  0.0  0.0  0.0  1.0  0.0  1.0  0.0   \n",
       "3      0.092269  0.0  1.0  0.0  0.0  0.0  0.0  0.0  0.0  0.0  0.0  1.0  0.0   \n",
       "4      0.094536  0.0  0.0  0.0  0.0  0.0  0.0  0.0  0.0  1.0  0.0  0.0  0.0   \n",
       "...         ...  ...  ...  ...  ...  ...  ...  ...  ...  ...  ...  ...  ...   \n",
       "32671  0.000000  0.0  0.0  0.0  0.0  0.0  0.0  0.0  0.0  1.0  0.0  1.0  0.0   \n",
       "32672  0.000000  1.0  0.0  0.0  0.0  0.0  0.0  0.0  0.0  0.0  0.0  0.0  0.0   \n",
       "32673  0.318522  1.0  0.0  0.0  0.0  0.0  0.0  0.0  0.0  0.0  0.0  0.0  0.0   \n",
       "32674  0.000000  1.0  0.0  0.0  0.0  0.0  0.0  0.0  0.0  0.0  0.0  1.0  0.0   \n",
       "32675  0.092269  0.0  0.0  0.0  0.0  0.0  0.0  0.0  0.0  0.0  0.0  1.0  0.0   \n",
       "\n",
       "        20   21   22   23   24   25   26   27   28  \n",
       "0      0.0  1.0  0.0  0.0  0.0  0.0  0.0  1.0  0.0  \n",
       "1      0.0  0.0  0.0  0.0  0.0  0.0  1.0  0.0  0.0  \n",
       "2      0.0  0.0  0.0  0.0  1.0  0.0  0.0  0.0  1.0  \n",
       "3      0.0  1.0  0.0  0.0  0.0  0.0  0.0  1.0  0.0  \n",
       "4      0.0  1.0  0.0  0.0  0.0  0.0  0.0  0.0  0.0  \n",
       "...    ...  ...  ...  ...  ...  ...  ...  ...  ...  \n",
       "32671  0.0  0.0  0.0  1.0  0.0  0.0  0.0  1.0  0.0  \n",
       "32672  1.0  0.0  0.0  0.0  0.0  0.0  0.0  0.0  1.0  \n",
       "32673  1.0  0.0  0.0  0.0  0.0  0.0  0.0  1.0  0.0  \n",
       "32674  0.0  0.0  0.0  0.0  0.0  0.0  0.0  0.0  1.0  \n",
       "32675  0.0  0.0  0.0  1.0  0.0  0.0  0.0  0.0  1.0  \n",
       "\n",
       "[32676 rows x 29 columns]"
      ]
     },
     "execution_count": 55,
     "metadata": {},
     "output_type": "execute_result"
    }
   ],
   "source": [
    "pd.DataFrame(X_train_scaled)"
   ]
  },
  {
   "cell_type": "markdown",
   "id": "aa6aaaac-d150-4ae0-b899-8759bd1783cb",
   "metadata": {},
   "source": [
    "## Section 4 : Building the Model"
   ]
  },
  {
   "cell_type": "markdown",
   "id": "5ef9cb59-90fd-4935-a281-f22c7d525bbe",
   "metadata": {},
   "source": [
    "I´ll work with two models : __Logistic Regression__ and __XGBoost__"
   ]
  },
  {
   "cell_type": "markdown",
   "id": "1d98217b-e374-4b43-bb3c-1523328d2637",
   "metadata": {},
   "source": [
    "### Section 4.1 : Logistic Regression"
   ]
  },
  {
   "cell_type": "code",
   "execution_count": 56,
   "id": "d3045aaf-23b5-4c90-b7a9-d436b230fe3c",
   "metadata": {},
   "outputs": [],
   "source": [
    "from sklearn.linear_model import LogisticRegression\n",
    "from sklearn.metrics import accuracy_score\n",
    "from sklearn.metrics import confusion_matrix, classification_report"
   ]
  },
  {
   "cell_type": "code",
   "execution_count": 57,
   "id": "f9455368-ccc7-42fb-887a-9f8ba00163ba",
   "metadata": {},
   "outputs": [
    {
     "name": "stdout",
     "output_type": "stream",
     "text": [
      "Accuracy 89.0 %\n",
      "              precision    recall  f1-score   support\n",
      "\n",
      "           0       0.91      0.98      0.94      7268\n",
      "           1       0.56      0.22      0.31       902\n",
      "\n",
      "    accuracy                           0.89      8170\n",
      "   macro avg       0.73      0.60      0.63      8170\n",
      "weighted avg       0.87      0.89      0.87      8170\n",
      "\n"
     ]
    },
    {
     "data": {
      "image/png": "[encoded data removed]",
      "text/plain": [
       "<Figure size 576x432 with 2 Axes>"
      ]
     },
     "metadata": {
      "needs_background": "light"
     },
     "output_type": "display_data"
    }
   ],
   "source": [
    "model = LogisticRegression()\n",
    "model.fit(X_train_scaled,y_train)\n",
    "y_pred = model.predict(X_test_scaled)\n",
    "print('Accuracy {} %'.format(np.round(100 * accuracy_score(y_pred,y_test)) ,2))\n",
    "cm = confusion_matrix(y_pred,y_test)\n",
    "plt.figure(figsize = (8,6))\n",
    "sns.heatmap(cm , annot = True , fmt='g')\n",
    "print(classification_report(y_test , y_pred))"
   ]
  },
  {
   "cell_type": "markdown",
   "id": "c59c1c12-92b5-499e-bcb2-d5254ff7ea3f",
   "metadata": {},
   "source": [
    "### Section 4.2 : XG Boost"
   ]
  },
  {
   "cell_type": "code",
   "execution_count": 58,
   "id": "6a7d6f2a-3ae4-428d-bcb9-e99a4fcc0089",
   "metadata": {},
   "outputs": [
    {
     "name": "stdout",
     "output_type": "stream",
     "text": [
      "Accuracy 90.0 %\n",
      "              precision    recall  f1-score   support\n",
      "\n",
      "           0       0.91      0.99      0.95      7268\n",
      "           1       0.65      0.21      0.32       902\n",
      "\n",
      "    accuracy                           0.90      8170\n",
      "   macro avg       0.78      0.60      0.63      8170\n",
      "weighted avg       0.88      0.90      0.88      8170\n",
      "\n"
     ]
    },
    {
     "data": {
      "image/png": "[encoded data removed]",
      "text/plain": [
       "<Figure size 576x432 with 2 Axes>"
      ]
     },
     "metadata": {
      "needs_background": "light"
     },
     "output_type": "display_data"
    }
   ],
   "source": [
    "import xgboost as xgb\n",
    "from xgboost import plot_importance\n",
    "xgbmodel = xgb.XGBClassifier(objective ='binary:logistic', learning_rate = 0.001, max_depth = 3, n_estimators = 1500)\n",
    "xgbmodel.fit(X_train_scaled, y_train)\n",
    "y_pred = xgbmodel.predict(X_test_scaled)\n",
    "print('Accuracy {} %'.format(np.round(100 * accuracy_score(y_pred,y_test)) ,2))\n",
    "cm = confusion_matrix(y_pred,y_test)\n",
    "plt.figure(figsize = (8,6))\n",
    "sns.heatmap(cm , annot = True , fmt='g')\n",
    "print(classification_report(y_test , y_pred))"
   ]
  },
  {
   "cell_type": "code",
   "execution_count": 59,
   "id": "b5f43bc3-f0b5-4fb4-8e01-9de8bffb201e",
   "metadata": {},
   "outputs": [
    {
     "data": {
      "image/png": "[encoded data removed]",
      "text/plain": [
       "<Figure size 432x288 with 1 Axes>"
      ]
     },
     "metadata": {
      "needs_background": "light"
     },
     "output_type": "display_data"
    }
   ],
   "source": [
    "# plot feature importance\n",
    "plot_importance(xgbmodel);"
   ]
  },
  {
   "cell_type": "markdown",
   "id": "daea0cbf-9e4b-450a-a951-4dd71b2a0fe7",
   "metadata": {},
   "source": [
    "__Using Scale Pos Weight__"
   ]
  },
  {
   "cell_type": "code",
   "execution_count": 60,
   "id": "7b7d4c12-4741-4287-b241-988fa372d483",
   "metadata": {},
   "outputs": [
    {
     "name": "stdout",
     "output_type": "stream",
     "text": [
      "Accuracy 83.0 %\n",
      "              precision    recall  f1-score   support\n",
      "\n",
      "           0       0.95      0.86      0.90      7268\n",
      "           1       0.35      0.62      0.45       902\n",
      "\n",
      "    accuracy                           0.83      8170\n",
      "   macro avg       0.65      0.74      0.67      8170\n",
      "weighted avg       0.88      0.83      0.85      8170\n",
      "\n"
     ]
    },
    {
     "data": {
      "image/png": "[encoded data removed]",
      "text/plain": [
       "<Figure size 576x432 with 2 Axes>"
      ]
     },
     "metadata": {
      "needs_background": "light"
     },
     "output_type": "display_data"
    }
   ],
   "source": [
    "import xgboost as xgb\n",
    "from collections import Counter\n",
    "counter = Counter(y_train)\n",
    "estimate = counter[0] / counter[1]\n",
    "xgbmodel = xgb.XGBClassifier(objective ='binary:logistic', learning_rate = 0.001, max_depth = 3, n_estimators = 1500 , scale_pos_weight=8)\n",
    "xgbmodel.fit(X_train, y_train)\n",
    "y_pred = xgbmodel.predict(X_test)\n",
    "print('Accuracy {} %'.format(np.round(100 * accuracy_score(y_pred,y_test)) ,2))\n",
    "cm = confusion_matrix(y_pred,y_test)\n",
    "plt.figure(figsize = (8,6))\n",
    "sns.heatmap(cm , annot = True , fmt='g')\n",
    "print(classification_report(y_test , y_pred))"
   ]
  },
  {
   "cell_type": "markdown",
   "id": "2f421bb9-3218-4a61-8085-caa35b4796b6",
   "metadata": {},
   "source": [
    "### Section 4.3 : Analyzing Results"
   ]
  },
  {
   "cell_type": "markdown",
   "id": "58ee6317-6bb2-4337-9e9e-8be3c222211b",
   "metadata": {},
   "source": [
    "|Model|True Positives| True Negatives | False Positives | False Negatives |Accuracy|Precision|Recall|\n",
    "|-----|--------------|----------------|-----------------|-----------------|--------|---------|------|\n",
    "|Logistic Regression|197|7112|156|705|89%|56%|22%|\n",
    "|XGBoost|189|7164|104|713|90%|65%|21%|\n",
    "|XGBoost with Scale Pos Weight|561|6220|1048|341|83%|35%|62%|"
   ]
  },
  {
   "cell_type": "markdown",
   "id": "9202bbd6-176d-4316-b349-08954422a58b",
   "metadata": {},
   "source": [
    "The first thing we notice is that __Accuracy__ is a misleading metric. It was obvious, due to the class imbalance. When dealing with this type of data, the correct measures are __Precision and Recall__. Which one is more important depends on the objectives of the business. However, we still see that both metrics are extremely low for both models. Lets consider the better model :  XGBoost. __65%__ precision means that ___Out of 100 examples that the model predicts that the client would take the deposit, only 65 would in fact do___. In the other hand, __21%__ recall means that ___Out of 100 clients that did take the deposit, only 21 were correctly identified by the model___ . Applying __Scale Pos Weight__ is a hyperparameter used by XGBoost to target the class with least examples. Obviously, this has opposite effects in the metrics: more of the clients who really took the deposit are identified, but precision decreases considerably.\n",
    "\n",
    "We can also see by looking at the features of the first XGBoost model that __Euribor__ is by far the most important feature to distinguish between clients, which it makes sense because after all deposits are indexed to the euribor. Also the __Contact__ feature was very important and the number of employed."
   ]
  },
  {
   "cell_type": "markdown",
   "id": "c0904de1-2270-46b9-bc04-8a7cdf0caad0",
   "metadata": {},
   "source": [
    "## Section 5 : Improving the models using SMOTE"
   ]
  },
  {
   "cell_type": "markdown",
   "id": "101e2f46-1a4d-4576-867d-a9ef5a95105d",
   "metadata": {},
   "source": [
    "__Smote__ stands for __Synthetic Minority Oversampling Technique__ , which is an algorithm to improve the problem of class imbalance by generating synthetic data from near neighbors of the minority class."
   ]
  },
  {
   "cell_type": "code",
   "execution_count": 61,
   "id": "b8650d98-994d-4640-8a78-672a24927529",
   "metadata": {},
   "outputs": [],
   "source": [
    "from imblearn.over_sampling import SMOTE"
   ]
  },
  {
   "cell_type": "code",
   "execution_count": 62,
   "id": "da21c6ac-892b-4b02-aca9-7bc555da619a",
   "metadata": {},
   "outputs": [],
   "source": [
    "sm = SMOTE(random_state = 42)\n",
    "X_res , y_res = sm.fit_resample(X_train_scaled , y_train)"
   ]
  },
  {
   "cell_type": "code",
   "execution_count": 63,
   "id": "52cbdb6d-c333-4da9-974c-27f026ae50cc",
   "metadata": {},
   "outputs": [
    {
     "data": {
      "text/plain": [
       "y\n",
       "0    28976\n",
       "1    28976\n",
       "dtype: int64"
      ]
     },
     "execution_count": 63,
     "metadata": {},
     "output_type": "execute_result"
    }
   ],
   "source": [
    "pd.DataFrame(y_res).groupby(\"y\").size()"
   ]
  },
  {
   "cell_type": "markdown",
   "id": "f39b8377-55ea-49f6-8b7b-2b838fe60312",
   "metadata": {},
   "source": [
    "### Section 5.1 : Retraining Logistic Regression"
   ]
  },
  {
   "cell_type": "code",
   "execution_count": 64,
   "id": "a4c3ab40-7630-4412-92a0-7a210ea5a209",
   "metadata": {},
   "outputs": [
    {
     "name": "stdout",
     "output_type": "stream",
     "text": [
      "Accuracy 80.0 %\n",
      "              precision    recall  f1-score   support\n",
      "\n",
      "           0       0.95      0.82      0.88      7268\n",
      "           1       0.31      0.64      0.41       902\n",
      "\n",
      "    accuracy                           0.80      8170\n",
      "   macro avg       0.63      0.73      0.65      8170\n",
      "weighted avg       0.88      0.80      0.83      8170\n",
      "\n"
     ]
    },
    {
     "data": {
      "image/png": "[encoded data removed]",
      "text/plain": [
       "<Figure size 576x432 with 2 Axes>"
      ]
     },
     "metadata": {
      "needs_background": "light"
     },
     "output_type": "display_data"
    }
   ],
   "source": [
    "model_lr_2 = LogisticRegression()\n",
    "model_lr_2.fit(X_res,y_res)\n",
    "y_pred = model_lr_2.predict(X_test_scaled)\n",
    "print('Accuracy {} %'.format(np.round(100 * accuracy_score(y_pred,y_test)) ,2))\n",
    "cm = confusion_matrix(y_pred,y_test)\n",
    "plt.figure(figsize = (8,6))\n",
    "sns.heatmap(cm , annot = True , fmt='g')\n",
    "print(classification_report(y_test , y_pred))"
   ]
  },
  {
   "cell_type": "code",
   "execution_count": 65,
   "id": "ce1cc47a-f198-46af-af38-e7a7e116286f",
   "metadata": {},
   "outputs": [
    {
     "name": "stdout",
     "output_type": "stream",
     "text": [
      "Accuracy 83.0 %\n",
      "              precision    recall  f1-score   support\n",
      "\n",
      "           0       0.95      0.86      0.90      7268\n",
      "           1       0.35      0.62      0.45       902\n",
      "\n",
      "    accuracy                           0.83      8170\n",
      "   macro avg       0.65      0.74      0.67      8170\n",
      "weighted avg       0.88      0.83      0.85      8170\n",
      "\n"
     ]
    },
    {
     "data": {
      "image/png": "[encoded data removed]",
      "text/plain": [
       "<Figure size 576x432 with 2 Axes>"
      ]
     },
     "metadata": {
      "needs_background": "light"
     },
     "output_type": "display_data"
    }
   ],
   "source": [
    "xgbmodel2 = xgb.XGBClassifier(objective ='binary:logistic', learning_rate = 0.001, max_depth = 3, n_estimators = 1500)\n",
    "xgbmodel2.fit(X_res, y_res)\n",
    "y_pred = xgbmodel2.predict(X_test_scaled)\n",
    "print('Accuracy {} %'.format(np.round(100 * accuracy_score(y_pred,y_test)) ,2))\n",
    "cm = confusion_matrix(y_pred,y_test)\n",
    "plt.figure(figsize = (8,6))\n",
    "plt.xlabel(\"XD\")\n",
    "sns.heatmap(cm , annot = True , fmt='g')\n",
    "print(classification_report(y_test , y_pred))"
   ]
  },
  {
   "cell_type": "markdown",
   "id": "6aee341c-d1da-47e7-b049-fb2d2a93da97",
   "metadata": {},
   "source": [
    "The most importante effect of using SMOTE is that it improves the Recall by reducing Precision. In the case of XGBoost the effect was the same as using Scale Pos Weight. "
   ]
  },
  {
   "cell_type": "markdown",
   "id": "e794c497-8767-4c26-9110-6c2f7267e03c",
   "metadata": {},
   "source": [
    "### Section 6 : Conclusions"
   ]
  },
  {
   "cell_type": "markdown",
   "id": "bc9e6b7e-3be8-4e47-a137-49adb736d391",
   "metadata": {},
   "source": [
    "The present notebook analyzed the direct marketing campaign dataset. It started with an analysis of the different features, understanding the most frequent values and their distributions, paying special attention if they would or wouldn´t be helpful for building a classifier. Due to the low amount of data and the high class imbalance, the complexity of the problem was increased considerably. Two algorithms were chosen: Logistic Regression and XGBoost, being the second one that performed better. XGBoost has a precision of 65% and a very low recall of 21%. Using Scale Pos Weight, the metrics turn around with 35% precision and 62% recall. Again, metrics are quite low so there is a lot of improvement to do. Particular I´d focus on doing more feature engineering (if we can´t find more data)."
   ]
  }
 ],
 "metadata": {
  "kernelspec": {
   "display_name": "Python 3",
   "language": "python",
   "name": "python3"
  },
  "language_info": {
   "codemirror_mode": {
    "name": "ipython",
    "version": 3
   },
   "file_extension": ".py",
   "mimetype": "text/x-python",
   "name": "python",
   "nbconvert_exporter": "python",
   "pygments_lexer": "ipython3",
   "version": "3.9.5"
  }
 },
 "nbformat": 4,
 "nbformat_minor": 5
}
